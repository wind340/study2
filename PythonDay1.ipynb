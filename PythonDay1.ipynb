{
  "nbformat": 4,
  "nbformat_minor": 0,
  "metadata": {
    "colab": {
      "name": "PythonDay1.ipynb",
      "provenance": [],
      "collapsed_sections": []
    },
    "kernelspec": {
      "name": "python3",
      "display_name": "Python 3"
    },
    "language_info": {
      "name": "python"
    }
  },
  "cells": [
    {
      "cell_type": "markdown",
      "metadata": {
        "id": "mstyjMcfDh3f"
      },
      "source": [
        "1. 파이썬이란..\n",
        "  1990년 귀도 반 로섬이 개발한 인터프리터 언어..(!= 컴파일러)\n",
        "  코미디 쇼에 나오는 제목에서 따왔다.\n",
        "  사전적인 의미는 고대 신화에 나오는 동굴에 살던 큰 뱀\n",
        "  아폴로 신이 파이썬을 퇴치했다는 이야기가 전해진다.\n",
        "  프로그래밍 교육을 위해서 많이 사용되며 동시에 기업의 실무에서도 많이 사용된다. (!=베이직)\n",
        "  구글의 소프트웨어의 50% 이상이 파이썬으로 작성되었다.\n",
        "  그외에도 인스타그램 , 드랍박스등이 파이썬으로 작성.\n",
        "파이썬은 공동작업과 유지보수가 매우 쉽고 편하다. 이미 다른 언어로 작성된 프로그램들이 파이썬으로 재구성 되고 있다.\n",
        "\n",
        "2. 파이썬의 특징\n",
        "  1. 파이썬은 인간다운 언어이다.\n",
        "  2. 파이썬은 문법이 쉬워 빠르게 배울수 있다.\n",
        "  3. 파이썬은 무료이지만 강력하다.\n",
        "  4. 파이썬은 간결하다.\n",
        "  5. 파이썬은 프로그래밍을 즐기게 해준다\n",
        "  6. 파이썬은 개발 속도가 빠르다.\n",
        "    Life too short you need python...\n",
        "\n",
        "3. 파이썬으로 할 수 있는 것\n",
        "  1. 시스템 유틸리티 (조금약하지만 가능)\n",
        "  2. GUI 프로그래밍 (pyqt)\n",
        "  3. C , C++ 결합 쉬움 (glue 언어)\n",
        "  4. 웹 프로그래밍 ( flask, django )\n",
        "  5. 수치연산 ( Numpy )\n",
        "  6. Database (Oracle , MySQL, MariaDB )\n",
        "  7. 데이터분석 (Pandas) (*강력함)\n",
        "  -시스템 밀접한 하드웨어, 모바일(안드로이드 , 아이폰..) 잘 못함"
      ]
    },
    {
      "cell_type": "markdown",
      "metadata": {
        "id": "pem3Col2KqgJ"
      },
      "source": [
        " 2. 자료형\n",
        "  **리스트, 튜플, 딕셔너리, 셋 ....**\n",
        "  어떤 프로그래밍 언어든 그 언어의 자료형을 알고 이해할수 있다면 그 언어의 절반을 터득한 것이다.\n",
        "  프로그램의 기본이자 핵심 단위이다.\n",
        "  자료형을 충분히 이해하지 않고 프로그래밍을 시작하는 것은 기초공사가 마무리 되지 않은 상태에서 건물을 세우는 것과 같다.\n",
        "  "
      ]
    },
    {
      "cell_type": "code",
      "metadata": {
        "colab": {
          "base_uri": "https://localhost:8080/"
        },
        "id": "uBTdnSm9K6BH",
        "outputId": "7c6f18f4-53af-42a8-ae0b-06836cd3e40b"
      },
      "source": [
        "# 숫자형 : 숫자 형태로 이루어진 자료형 1,2,3 정수 // 12.3 , 3.14 실수\n",
        "# 정수형\n",
        "a = 123\n",
        "print(a)\n",
        "b= 3.14\n",
        "print(b)\n",
        "\n",
        "c=\"HI\"\n",
        "print(c)"
      ],
      "execution_count": null,
      "outputs": [
        {
          "output_type": "stream",
          "name": "stdout",
          "text": [
            "123\n",
            "3.14\n",
            "HI\n"
          ]
        }
      ]
    },
    {
      "cell_type": "code",
      "metadata": {
        "colab": {
          "base_uri": "https://localhost:8080/"
        },
        "id": "EP6v6UI2Mfxp",
        "outputId": "61ea0c47-f1f4-4a0d-d843-9bccc52e619f"
      },
      "source": [
        "# 숫자형 연산\n",
        "a = 3\n",
        "b = 4\n",
        "print(a+b)"
      ],
      "execution_count": null,
      "outputs": [
        {
          "output_type": "stream",
          "name": "stdout",
          "text": [
            "7\n"
          ]
        }
      ]
    },
    {
      "cell_type": "code",
      "metadata": {
        "colab": {
          "base_uri": "https://localhost:8080/"
        },
        "id": "sX74oCf7PPEn",
        "outputId": "8c129926-e106-4cc1-bcc4-b693d23feeed"
      },
      "source": [
        "b % a # 몫은 버리고 나머지만 취하는 연산자..홀수 / 짝수 / 배수"
      ],
      "execution_count": null,
      "outputs": [
        {
          "output_type": "execute_result",
          "data": {
            "text/plain": [
              "1"
            ]
          },
          "metadata": {},
          "execution_count": 9
        }
      ]
    },
    {
      "cell_type": "code",
      "metadata": {
        "colab": {
          "base_uri": "https://localhost:8080/"
        },
        "id": "r6cSAMQ6PpDY",
        "outputId": "6c7be566-4b9c-47e9-b9c6-26bd71160db5"
      },
      "source": [
        "a == b"
      ],
      "execution_count": null,
      "outputs": [
        {
          "output_type": "execute_result",
          "data": {
            "text/plain": [
              "False"
            ]
          },
          "metadata": {},
          "execution_count": 11
        }
      ]
    },
    {
      "cell_type": "code",
      "metadata": {
        "colab": {
          "base_uri": "https://localhost:8080/"
        },
        "id": "ZwqLI3PXPuVL",
        "outputId": "043e15c6-954e-4c8e-a71b-4c624bb17895"
      },
      "source": [
        "a != b"
      ],
      "execution_count": null,
      "outputs": [
        {
          "output_type": "execute_result",
          "data": {
            "text/plain": [
              "True"
            ]
          },
          "metadata": {},
          "execution_count": 12
        }
      ]
    },
    {
      "cell_type": "code",
      "metadata": {
        "colab": {
          "base_uri": "https://localhost:8080/",
          "height": 35
        },
        "id": "hV1btUcYPwr0",
        "outputId": "4a9e884e-c846-4946-c7d7-e4d8ff570e56"
      },
      "source": [
        "# 문자열 자료형 String\n",
        "\n",
        "a = \"Hello World\"\n",
        "a "
      ],
      "execution_count": null,
      "outputs": [
        {
          "output_type": "execute_result",
          "data": {
            "application/vnd.google.colaboratory.intrinsic+json": {
              "type": "string"
            },
            "text/plain": [
              "'Hello World'"
            ]
          },
          "metadata": {},
          "execution_count": 15
        }
      ]
    },
    {
      "cell_type": "code",
      "metadata": {
        "colab": {
          "base_uri": "https://localhost:8080/",
          "height": 35
        },
        "id": "lWbXtf0BQGIG",
        "outputId": "bcd52181-b7ef-4d42-d811-80ea0c9f7f22"
      },
      "source": [
        "a = 'Hello World'\n",
        "a"
      ],
      "execution_count": null,
      "outputs": [
        {
          "output_type": "execute_result",
          "data": {
            "application/vnd.google.colaboratory.intrinsic+json": {
              "type": "string"
            },
            "text/plain": [
              "'Hello World'"
            ]
          },
          "metadata": {},
          "execution_count": 16
        }
      ]
    },
    {
      "cell_type": "code",
      "metadata": {
        "colab": {
          "base_uri": "https://localhost:8080/",
          "height": 35
        },
        "id": "PF0sFZJFQQ3U",
        "outputId": "9c554913-b676-4a24-e7d7-4bdb98897ea4"
      },
      "source": [
        "''' hello World ''' "
      ],
      "execution_count": null,
      "outputs": [
        {
          "output_type": "execute_result",
          "data": {
            "application/vnd.google.colaboratory.intrinsic+json": {
              "type": "string"
            },
            "text/plain": [
              "' hello World '"
            ]
          },
          "metadata": {},
          "execution_count": 17
        }
      ]
    },
    {
      "cell_type": "code",
      "metadata": {
        "colab": {
          "base_uri": "https://localhost:8080/"
        },
        "id": "vly8CL-ZQlIt",
        "outputId": "7d5b69b1-37ab-4072-86c8-1019aac60123"
      },
      "source": [
        "a= \"Python's\"\n",
        "print(a)"
      ],
      "execution_count": null,
      "outputs": [
        {
          "output_type": "stream",
          "name": "stdout",
          "text": [
            "Python's\n"
          ]
        }
      ]
    },
    {
      "cell_type": "code",
      "metadata": {
        "colab": {
          "base_uri": "https://localhost:8080/"
        },
        "id": "67MpChr-QyUj",
        "outputId": "4fb6f345-9b2b-4f1b-85c3-03a693ed9000"
      },
      "source": [
        "a = 'Python\\'s'\n",
        "print(a)"
      ],
      "execution_count": null,
      "outputs": [
        {
          "output_type": "stream",
          "name": "stdout",
          "text": [
            "Python's\n"
          ]
        }
      ]
    },
    {
      "cell_type": "code",
      "metadata": {
        "colab": {
          "base_uri": "https://localhost:8080/"
        },
        "id": "atUdcaR6REGz",
        "outputId": "516494e6-787a-47e0-f775-b47423a4df61"
      },
      "source": [
        "a = '''\n",
        "Hello\n",
        "World\n",
        "!!!!\n",
        "'''\n",
        "print(a)"
      ],
      "execution_count": null,
      "outputs": [
        {
          "output_type": "stream",
          "name": "stdout",
          "text": [
            "\n",
            "Hello\n",
            "World\n",
            "!!!!\n",
            "\n"
          ]
        }
      ]
    },
    {
      "cell_type": "code",
      "metadata": {
        "colab": {
          "base_uri": "https://localhost:8080/"
        },
        "id": "tlj6Zl0uRSEq",
        "outputId": "1117347f-3716-482d-f8e4-0faa30412091"
      },
      "source": [
        "a = 'Hello\\nWorld'\n",
        "print(a)"
      ],
      "execution_count": null,
      "outputs": [
        {
          "output_type": "stream",
          "name": "stdout",
          "text": [
            "Hello\n",
            "World\n"
          ]
        }
      ]
    },
    {
      "cell_type": "code",
      "metadata": {
        "colab": {
          "base_uri": "https://localhost:8080/"
        },
        "id": "Yo9W19bkSdhr",
        "outputId": "11c97fb5-ae03-4b45-ff7f-45cc665303dd"
      },
      "source": [
        "# 리스트 자료형\n",
        "# 홀수들의 합을 계산 a=1,b=3,c=5\n",
        "# 리스트는 불편함을 해소.. 여러개의 자료를 하나로 묶어 관리.\n",
        "# 컨트롤+ / 하면 주석(여러개) 처리가능\n",
        "z = []\n",
        "z = [1,3,5,7,9]\n",
        "z = ['a','b','c']\n",
        "z = [1,2,'a','b']\n",
        "print(z[0])\n",
        "# 자료형에서 데이터를 꺼내 쓰는 방법\n",
        "# 인덱싱 - 한개씩 꺼내는 방법\n",
        "# 슬라이싱 - 여러개를 한번에\n",
        "\n",
        "print(z[-1]) #마지막이 나오는\n",
        "print(z[-2]) #마지막에서 두번째\n",
        "print(z[0]+z[1]) #연산가능\n",
        "print('------슬라이싱-------')\n",
        "#슬라이싱  [이상 : ~미만]\n",
        "print(z[0:3])\n",
        "print(z[:2])\n",
        "print(z[2:])\n",
        "print('------문자열에서도 동일-----')\n",
        "# 문자열\n",
        "a= '12345'\n",
        "print(a[2])\n",
        "print(a[:4])\n"
      ],
      "execution_count": null,
      "outputs": [
        {
          "output_type": "stream",
          "name": "stdout",
          "text": [
            "1\n",
            "b\n",
            "a\n",
            "3\n",
            "------슬라이싱-------\n",
            "[1, 2, 'a']\n",
            "[1, 2]\n",
            "['a', 'b']\n",
            "------문자열에서도 동일-----\n",
            "3\n",
            "1234\n"
          ]
        }
      ]
    },
    {
      "cell_type": "code",
      "metadata": {
        "colab": {
          "base_uri": "https://localhost:8080/"
        },
        "id": "btowpQE7TF0y",
        "outputId": "29ee8c64-126f-4b40-cd87-c10fab67737e"
      },
      "source": [
        "a = [1,2,3]\n",
        "b = [4,5,6]\n",
        "print(a+b)\n",
        "print(a*3)"
      ],
      "execution_count": null,
      "outputs": [
        {
          "output_type": "stream",
          "name": "stdout",
          "text": [
            "[1, 2, 3, 4, 5, 6]\n",
            "[1, 2, 3, 1, 2, 3, 1, 2, 3]\n"
          ]
        }
      ]
    },
    {
      "cell_type": "code",
      "metadata": {
        "colab": {
          "base_uri": "https://localhost:8080/"
        },
        "id": "gkTXREQJWD7W",
        "outputId": "3beea7e1-101f-4672-db4d-ccc3ca5e17d8"
      },
      "source": [
        "a = [1,2,3]\n",
        "print(len(a)) #length "
      ],
      "execution_count": null,
      "outputs": [
        {
          "output_type": "stream",
          "name": "stdout",
          "text": [
            "3\n"
          ]
        }
      ]
    },
    {
      "cell_type": "code",
      "metadata": {
        "colab": {
          "base_uri": "https://localhost:8080/"
        },
        "id": "aIhW9Z4IWW5m",
        "outputId": "8999bbf3-8c3d-486c-b346-dcdb291741d0"
      },
      "source": [
        "#리스트에서는 수정과 삭제 가능하다 => mutable (* 튜플은 수정과 삭제가 불가능 하다 => immutable)\n",
        "\n",
        "a= [1,2,3]\n",
        "a[2] = 4 # 2번째에 들어가있는 수를 4로 바꿔라\n",
        "print(a) \n",
        "del a[1] # 1번째에 들어가있는 수를 지워라\n",
        "print(a) "
      ],
      "execution_count": null,
      "outputs": [
        {
          "output_type": "stream",
          "name": "stdout",
          "text": [
            "[1, 2, 4]\n",
            "[1, 4]\n"
          ]
        }
      ]
    },
    {
      "cell_type": "code",
      "metadata": {
        "colab": {
          "base_uri": "https://localhost:8080/"
        },
        "id": "fDW1CJ6CXXDF",
        "outputId": "79976e53-c85c-410b-c378-a96a33f336e6"
      },
      "source": [
        "# 리스트 관련 함수 정리\n",
        "# append 리스트의 마지막에 요소를 추가\n",
        "\n",
        "a=[1,2,3]\n",
        "a.append(4)\n",
        "print(a)\n",
        "a.append([5,6]) # 리스트안에 리스트를 둘수 있다.\n",
        "print(a)\n",
        "a.append('HelloWorld') #문자도 추가 가능\n",
        "print(a)"
      ],
      "execution_count": null,
      "outputs": [
        {
          "output_type": "stream",
          "name": "stdout",
          "text": [
            "[1, 2, 3, 4]\n",
            "[1, 2, 3, 4, [5, 6]]\n",
            "[1, 2, 3, 4, [5, 6], 'HelloWorld']\n"
          ]
        }
      ]
    },
    {
      "cell_type": "code",
      "metadata": {
        "colab": {
          "base_uri": "https://localhost:8080/"
        },
        "id": "e8PDnPsIYsok",
        "outputId": "fac025de-07ef-44e4-e36d-eae3628d167b"
      },
      "source": [
        "# sort - 리스트의 요소를 순서대로 정렬\n",
        "a= [1,7,3,6,5]\n",
        "a.sort()  #정렬\n",
        "print(a)\n",
        "b = ['a','t','b','h']\n",
        "b.sort()\n",
        "print(b)\n",
        "\n",
        "a.reverse() #역순정렬\n",
        "print(a)"
      ],
      "execution_count": null,
      "outputs": [
        {
          "output_type": "stream",
          "name": "stdout",
          "text": [
            "[1, 3, 5, 6, 7]\n",
            "['a', 'b', 'h', 't']\n",
            "[7, 6, 5, 3, 1]\n"
          ]
        }
      ]
    },
    {
      "cell_type": "code",
      "metadata": {
        "colab": {
          "base_uri": "https://localhost:8080/"
        },
        "id": "w937wF2IZdmF",
        "outputId": "5baaa4e7-fa59-4131-ccf1-df97874ad58c"
      },
      "source": [
        "# index 위치값을 반환\n",
        "\n",
        "a = [1,3,4]\n",
        "a.index(3)\n",
        "#없는 값은 에러남"
      ],
      "execution_count": null,
      "outputs": [
        {
          "output_type": "execute_result",
          "data": {
            "text/plain": [
              "1"
            ]
          },
          "metadata": {},
          "execution_count": 76
        }
      ]
    },
    {
      "cell_type": "code",
      "metadata": {
        "colab": {
          "base_uri": "https://localhost:8080/"
        },
        "id": "8A58QzfXZApG",
        "outputId": "3a4c3e5c-80fa-47be-ff44-4657e373f392"
      },
      "source": [
        "#insert 리스트의 특정위치에 삽입\n",
        "a =[1,2,3]\n",
        "a.insert(0,4) #0번째에 4를 집어 넣어라\n",
        "print(a)"
      ],
      "execution_count": null,
      "outputs": [
        {
          "output_type": "stream",
          "name": "stdout",
          "text": [
            "[4, 1, 2, 3]\n"
          ]
        }
      ]
    },
    {
      "cell_type": "code",
      "metadata": {
        "colab": {
          "base_uri": "https://localhost:8080/"
        },
        "id": "vLXcr13EZ8nk",
        "outputId": "13593df4-c4ba-4823-9f7f-746d148f05ef"
      },
      "source": [
        "# remove 리스트의 첫번째로 나오는 값을 삭제\n",
        "a = [1,3,4,1,2,4]\n",
        "a.remove(4)  #처음나오는 값(4)를 삭제\n",
        "print(a) "
      ],
      "execution_count": null,
      "outputs": [
        {
          "output_type": "stream",
          "name": "stdout",
          "text": [
            "[1, 3, 1, 2, 4]\n"
          ]
        }
      ]
    },
    {
      "cell_type": "code",
      "metadata": {
        "colab": {
          "base_uri": "https://localhost:8080/"
        },
        "id": "JwnMb-RkaQdu",
        "outputId": "88b4bc86-a8cf-4635-c1de-bddb1a5a10b1"
      },
      "source": [
        "#pop 끝에 위치한 항목을 삭제한다\n",
        "\n",
        "a=[1,2,3,4]\n",
        "a.pop()\n",
        "a.pop()\n",
        "print(a)\n"
      ],
      "execution_count": null,
      "outputs": [
        {
          "output_type": "stream",
          "name": "stdout",
          "text": [
            "[1, 2]\n"
          ]
        }
      ]
    },
    {
      "cell_type": "code",
      "metadata": {
        "colab": {
          "base_uri": "https://localhost:8080/"
        },
        "id": "pjCbNkB5ac8U",
        "outputId": "8356ceb6-4d4c-41d3-98f0-2480b22f3ce3"
      },
      "source": [
        "# count 리스트에서 특정원소가 몇개 있는지 확인\n",
        "a=[1,2,3,4,5,4,3,8,4]\n",
        "a.count(4) # 값이 몇개인지 센다"
      ],
      "execution_count": null,
      "outputs": [
        {
          "output_type": "execute_result",
          "data": {
            "text/plain": [
              "3"
            ]
          },
          "metadata": {},
          "execution_count": 70
        }
      ]
    },
    {
      "cell_type": "code",
      "metadata": {
        "colab": {
          "base_uri": "https://localhost:8080/"
        },
        "id": "tZ6qdVGTaySO",
        "outputId": "ad283f5a-2783-4a45-9668-b9ee6964dd90"
      },
      "source": [
        "#extend 리스트에 리스트를 더한다\n",
        "a= [1,2,3]\n",
        "a.extend([4,5])\n",
        "print(a)"
      ],
      "execution_count": null,
      "outputs": [
        {
          "output_type": "stream",
          "name": "stdout",
          "text": [
            "[1, 2, 3, 4, 5]\n"
          ]
        }
      ]
    },
    {
      "cell_type": "code",
      "metadata": {
        "id": "aX1SbuGcrYP6"
      },
      "source": [
        "# 튜플 (튜플은 수정과 삭제가 불가능하다. immutable)\n",
        "\n",
        "# 튜플은 리스트와 거의 비슷하다\n",
        "\n",
        "# 1.리스트는 [] 튜플 ()\n",
        "# 2. 리스트는 수정삭제가능 / 튜플은 수정삭제 불가\n",
        "\n",
        "#튜플은 프로그램 실행되는 동안 그 값이 항상 변하지 않기를 바란다거나 값이 바뀔까 걱정하고싶지 않을때 사용."
      ],
      "execution_count": null,
      "outputs": []
    },
    {
      "cell_type": "code",
      "metadata": {
        "id": "3SNY7vxPtEn-"
      },
      "source": [
        "t1 = ()\n",
        "t2 = (1,) #튜플은 원소를 하나만 담을 때는 쉼표를 붙인다.  튜플은 괄호 생략이 가능하다.\n",
        "t3 = 1,  # 괄호를 생략가능하지만 변수를 담는것과 다르게  쉼표를 붙여야지 튜플로 인지한다\n",
        "t4 = 1,2,3,4  #하지만 정석은 괄호가 있어야함.\n",
        "t5 = ('a','b','c','d')"
      ],
      "execution_count": null,
      "outputs": []
    },
    {
      "cell_type": "code",
      "metadata": {
        "colab": {
          "base_uri": "https://localhost:8080/",
          "height": 175
        },
        "id": "OvRobYSjuUr9",
        "outputId": "c3a0b956-2e43-479c-b1d5-440622117bf7"
      },
      "source": [
        "t1 = (1,2,'a','b')\n",
        "del t1[0] # 삭제 에러사항\n"
      ],
      "execution_count": null,
      "outputs": [
        {
          "output_type": "error",
          "ename": "TypeError",
          "evalue": "ignored",
          "traceback": [
            "\u001b[0;31m---------------------------------------------------------------------------\u001b[0m",
            "\u001b[0;31mTypeError\u001b[0m                                 Traceback (most recent call last)",
            "\u001b[0;32m<ipython-input-73-c262f07a9b36>\u001b[0m in \u001b[0;36m<module>\u001b[0;34m()\u001b[0m\n\u001b[1;32m      1\u001b[0m \u001b[0mt1\u001b[0m \u001b[0;34m=\u001b[0m \u001b[0;34m(\u001b[0m\u001b[0;36m1\u001b[0m\u001b[0;34m,\u001b[0m\u001b[0;36m2\u001b[0m\u001b[0;34m,\u001b[0m\u001b[0;34m'a'\u001b[0m\u001b[0;34m,\u001b[0m\u001b[0;34m'b'\u001b[0m\u001b[0;34m)\u001b[0m\u001b[0;34m\u001b[0m\u001b[0;34m\u001b[0m\u001b[0m\n\u001b[0;32m----> 2\u001b[0;31m \u001b[0;32mdel\u001b[0m \u001b[0mt1\u001b[0m\u001b[0;34m[\u001b[0m\u001b[0;36m0\u001b[0m\u001b[0;34m]\u001b[0m \u001b[0;31m# 지울수 없으니 에러사항\u001b[0m\u001b[0;34m\u001b[0m\u001b[0;34m\u001b[0m\u001b[0m\n\u001b[0m",
            "\u001b[0;31mTypeError\u001b[0m: 'tuple' object doesn't support item deletion"
          ]
        }
      ]
    },
    {
      "cell_type": "code",
      "metadata": {
        "colab": {
          "base_uri": "https://localhost:8080/",
          "height": 175
        },
        "id": "wT5WnIX1uhmq",
        "outputId": "62f6cd04-6cb3-401a-8aa6-59cdf512cd24"
      },
      "source": [
        "t1=(1,2,'a','b')\n",
        "t1[0]= 'c' #추가 삭제 수정은 에러사항"
      ],
      "execution_count": null,
      "outputs": [
        {
          "output_type": "error",
          "ename": "TypeError",
          "evalue": "ignored",
          "traceback": [
            "\u001b[0;31m---------------------------------------------------------------------------\u001b[0m",
            "\u001b[0;31mTypeError\u001b[0m                                 Traceback (most recent call last)",
            "\u001b[0;32m<ipython-input-74-f580e5f8b8c9>\u001b[0m in \u001b[0;36m<module>\u001b[0;34m()\u001b[0m\n\u001b[1;32m      1\u001b[0m \u001b[0mt1\u001b[0m\u001b[0;34m=\u001b[0m\u001b[0;34m(\u001b[0m\u001b[0;36m1\u001b[0m\u001b[0;34m,\u001b[0m\u001b[0;36m2\u001b[0m\u001b[0;34m,\u001b[0m\u001b[0;34m'a'\u001b[0m\u001b[0;34m,\u001b[0m\u001b[0;34m'b'\u001b[0m\u001b[0;34m)\u001b[0m\u001b[0;34m\u001b[0m\u001b[0;34m\u001b[0m\u001b[0m\n\u001b[0;32m----> 2\u001b[0;31m \u001b[0mt1\u001b[0m\u001b[0;34m[\u001b[0m\u001b[0;36m0\u001b[0m\u001b[0;34m]\u001b[0m\u001b[0;34m=\u001b[0m \u001b[0;34m'c'\u001b[0m\u001b[0;34m\u001b[0m\u001b[0;34m\u001b[0m\u001b[0m\n\u001b[0m",
            "\u001b[0;31mTypeError\u001b[0m: 'tuple' object does not support item assignment"
          ]
        }
      ]
    },
    {
      "cell_type": "code",
      "metadata": {
        "colab": {
          "base_uri": "https://localhost:8080/"
        },
        "id": "wBw7m0t_uof9",
        "outputId": "7fcbe25a-4d56-47a5-fadf-efc7a003a7c9"
      },
      "source": [
        "# 튜플에서 인덱싱\n",
        "t1=(1,2,'a','b')\n",
        "t1[0]"
      ],
      "execution_count": null,
      "outputs": [
        {
          "output_type": "execute_result",
          "data": {
            "text/plain": [
              "1"
            ]
          },
          "metadata": {},
          "execution_count": 75
        }
      ]
    },
    {
      "cell_type": "code",
      "metadata": {
        "colab": {
          "base_uri": "https://localhost:8080/"
        },
        "id": "5Q71LLNqvFA6",
        "outputId": "c0fc62c0-e574-48e4-8ef5-1e0e6b068c51"
      },
      "source": [
        "#튜플에서의 슬라이싱\n",
        "t1=(1,2,'a','b')\n",
        "t1[0:]"
      ],
      "execution_count": null,
      "outputs": [
        {
          "output_type": "execute_result",
          "data": {
            "text/plain": [
              "(1, 2, 'a', 'b')"
            ]
          },
          "metadata": {},
          "execution_count": 77
        }
      ]
    },
    {
      "cell_type": "code",
      "metadata": {
        "colab": {
          "base_uri": "https://localhost:8080/"
        },
        "id": "BbmfRV7MvW0c",
        "outputId": "f882070e-0eaf-450b-9d21-eed1e56ac354"
      },
      "source": [
        "t1=(1,2,'a','b')\n",
        "t2=(3,4)\n",
        "t1+t2"
      ],
      "execution_count": null,
      "outputs": [
        {
          "output_type": "execute_result",
          "data": {
            "text/plain": [
              "(1, 2, 'a', 'b', 3, 4)"
            ]
          },
          "metadata": {},
          "execution_count": 78
        }
      ]
    },
    {
      "cell_type": "code",
      "metadata": {
        "colab": {
          "base_uri": "https://localhost:8080/"
        },
        "id": "bpUjMIrJvckW",
        "outputId": "0640df46-2aac-467c-e91b-cc1364d38e91"
      },
      "source": [
        "t1=(1,2,'a','b')\n",
        "t1*3"
      ],
      "execution_count": null,
      "outputs": [
        {
          "output_type": "execute_result",
          "data": {
            "text/plain": [
              "(1, 2, 'a', 'b', 1, 2, 'a', 'b', 1, 2, 'a', 'b')"
            ]
          },
          "metadata": {},
          "execution_count": 79
        }
      ]
    },
    {
      "cell_type": "code",
      "metadata": {
        "colab": {
          "base_uri": "https://localhost:8080/"
        },
        "id": "KnbPsXDQvk-C",
        "outputId": "b0967234-f4d1-4504-aff0-67a0e9871243"
      },
      "source": [
        "len(t1)"
      ],
      "execution_count": null,
      "outputs": [
        {
          "output_type": "execute_result",
          "data": {
            "text/plain": [
              "4"
            ]
          },
          "metadata": {},
          "execution_count": 80
        }
      ]
    },
    {
      "cell_type": "markdown",
      "metadata": {
        "id": "SCyWt0rWwHDd"
      },
      "source": [
        " **딕셔너리**\n",
        " 이름=홍길동 , 나이=15 , 성별=남자 ,대응관계를 나타낼 수 있는 자료형\n",
        " 다른 언어에서는 map. hash 등으로 명명하지만\n",
        " 파이썬에서는 키와 벨류 값으로 구성된 모습을 딕셔너리라한다.\n",
        "\n",
        "-특징-\n",
        "1. 딕셔너리는 인덱싱과 슬라이싱 불가능\n",
        "2. 수정 편집 가능 mutable\n",
        "3. 중괄호 {} ([]리스트 ()튜플 )\n",
        "4. \n"
      ]
    },
    {
      "cell_type": "code",
      "metadata": {
        "colab": {
          "base_uri": "https://localhost:8080/"
        },
        "id": "BtEDokX_w9ux",
        "outputId": "98d120db-e704-45c9-a0bb-0ec0429f49d6"
      },
      "source": [
        "dic = {'name':'pey', 'phone':'01011110000', 'birth':'1119'}\n",
        "\n",
        "print(dic)"
      ],
      "execution_count": null,
      "outputs": [
        {
          "output_type": "stream",
          "name": "stdout",
          "text": [
            "{'name': 'pey', 'phone': '01011110000', 'birth': '1119'}\n"
          ]
        }
      ]
    },
    {
      "cell_type": "code",
      "metadata": {
        "colab": {
          "base_uri": "https://localhost:8080/"
        },
        "id": "OGwylT6jxa57",
        "outputId": "64068307-15e2-4321-c16a-883f3d2611c0"
      },
      "source": [
        "a = {'b':[1,2,3]}\n",
        "a"
      ],
      "execution_count": null,
      "outputs": [
        {
          "output_type": "execute_result",
          "data": {
            "text/plain": [
              "{'b': [1, 2, 3]}"
            ]
          },
          "metadata": {},
          "execution_count": 82
        }
      ]
    },
    {
      "cell_type": "code",
      "metadata": {
        "colab": {
          "base_uri": "https://localhost:8080/"
        },
        "id": "ie5tW9sBxrTz",
        "outputId": "a28fc648-64cf-4338-80f2-dcf2efcce6a2"
      },
      "source": [
        "a = {1:'a' , 2:'b'}\n",
        "a[5]='c' # 5라는 키값으로 b라는 벨류값을 넣는다\n",
        "a"
      ],
      "execution_count": null,
      "outputs": [
        {
          "output_type": "execute_result",
          "data": {
            "text/plain": [
              "{1: 'a', 2: 'b', 5: 'c'}"
            ]
          },
          "metadata": {},
          "execution_count": 90
        }
      ]
    },
    {
      "cell_type": "code",
      "metadata": {
        "colab": {
          "base_uri": "https://localhost:8080/"
        },
        "id": "k9WQRuRoyWtX",
        "outputId": "3f3a3039-4a98-4b56-dc2e-b173172875bc"
      },
      "source": [
        "a['name'] = 'pey' #문자열도 넣기 가능\n",
        "a"
      ],
      "execution_count": null,
      "outputs": [
        {
          "output_type": "execute_result",
          "data": {
            "text/plain": [
              "{1: 'a', 2: 'b', 5: 'c', 'name': 'pey'}"
            ]
          },
          "metadata": {},
          "execution_count": 91
        }
      ]
    },
    {
      "cell_type": "code",
      "metadata": {
        "colab": {
          "base_uri": "https://localhost:8080/"
        },
        "id": "2KuvYwfxydkT",
        "outputId": "cb87d7d6-2342-4352-be43-5b538988afc5"
      },
      "source": [
        "del a[1] #1이라는 키값 삭제 가능 #주의해야 할 점은 요소 삭제 인것\n",
        "a\n"
      ],
      "execution_count": null,
      "outputs": [
        {
          "output_type": "execute_result",
          "data": {
            "text/plain": [
              "{2: 'b', 5: 'c', 'name': 'pey'}"
            ]
          },
          "metadata": {},
          "execution_count": 92
        }
      ]
    },
    {
      "cell_type": "code",
      "metadata": {
        "colab": {
          "base_uri": "https://localhost:8080/"
        },
        "id": "E0vDklHXyr65",
        "outputId": "5eb7ce27-8f9e-4c65-d012-b6b410339ffb"
      },
      "source": [
        "# 딕셔너리로 Key값을 이용해서 value 값을 가져오기 #\n",
        "grade = {'pey':10 , 'julliet':9}\n",
        "grade['pey']"
      ],
      "execution_count": null,
      "outputs": [
        {
          "output_type": "execute_result",
          "data": {
            "text/plain": [
              "10"
            ]
          },
          "metadata": {},
          "execution_count": 93
        }
      ]
    },
    {
      "cell_type": "code",
      "metadata": {
        "colab": {
          "base_uri": "https://localhost:8080/"
        },
        "id": "qK5tdB8JzN-T",
        "outputId": "c047f4ba-9507-4e2e-b3cd-b8bd44f39798"
      },
      "source": [
        "# 딕셔너리 사용시 주의사항.. \n",
        "#1. key 값이 고유한 값을 사용하기 때문에 중복되는 키값을 설정하면 하나를 제외한 나머지 모든것들은 무시된다.\n",
        "a = {1:'a' , 1:'b'}\n",
        "a #키값 한개 출력됨"
      ],
      "execution_count": null,
      "outputs": [
        {
          "output_type": "execute_result",
          "data": {
            "text/plain": [
              "{1: 'b'}"
            ]
          },
          "metadata": {},
          "execution_count": 96
        }
      ]
    },
    {
      "cell_type": "code",
      "metadata": {
        "colab": {
          "base_uri": "https://localhost:8080/",
          "height": 207
        },
        "id": "_MlhWnUrz2LF",
        "outputId": "34e68f40-e12e-4a28-f1f0-3895eec6a8f6"
      },
      "source": [
        "#2. key값에 리스트는 사용할 수 없다. Tuple은 키값으로 사용할 수 있다.\n",
        "#  리스트는 그 값이 변할 수 있기 때문에 key로 쓸수 없다.\n",
        "a = {[1,2]:'hi'}\n",
        "a"
      ],
      "execution_count": null,
      "outputs": [
        {
          "output_type": "error",
          "ename": "TypeError",
          "evalue": "ignored",
          "traceback": [
            "\u001b[0;31m---------------------------------------------------------------------------\u001b[0m",
            "\u001b[0;31mTypeError\u001b[0m                                 Traceback (most recent call last)",
            "\u001b[0;32m<ipython-input-97-0d114b0f6092>\u001b[0m in \u001b[0;36m<module>\u001b[0;34m()\u001b[0m\n\u001b[1;32m      1\u001b[0m \u001b[0;31m#2. key값에 리스트는 사용할 수 없다. Tuple은 키값으로 사용할 수 있다.\u001b[0m\u001b[0;34m\u001b[0m\u001b[0;34m\u001b[0m\u001b[0;34m\u001b[0m\u001b[0m\n\u001b[1;32m      2\u001b[0m \u001b[0;31m#  리스트는 그 값이 변할 수 있기 때문에 key로 쓸수 없다.\u001b[0m\u001b[0;34m\u001b[0m\u001b[0;34m\u001b[0m\u001b[0;34m\u001b[0m\u001b[0m\n\u001b[0;32m----> 3\u001b[0;31m \u001b[0ma\u001b[0m \u001b[0;34m=\u001b[0m \u001b[0;34m{\u001b[0m\u001b[0;34m[\u001b[0m\u001b[0;36m1\u001b[0m\u001b[0;34m,\u001b[0m\u001b[0;36m2\u001b[0m\u001b[0;34m]\u001b[0m\u001b[0;34m:\u001b[0m\u001b[0;34m'hi'\u001b[0m\u001b[0;34m}\u001b[0m\u001b[0;34m\u001b[0m\u001b[0;34m\u001b[0m\u001b[0m\n\u001b[0m\u001b[1;32m      4\u001b[0m \u001b[0ma\u001b[0m\u001b[0;34m\u001b[0m\u001b[0;34m\u001b[0m\u001b[0m\n",
            "\u001b[0;31mTypeError\u001b[0m: unhashable type: 'list'"
          ]
        }
      ]
    },
    {
      "cell_type": "code",
      "metadata": {
        "colab": {
          "base_uri": "https://localhost:8080/"
        },
        "id": "qXEYjNm20bnH",
        "outputId": "c74b1ebf-ff9f-4037-cc3e-e899194e1bc6"
      },
      "source": [
        "a = {(1,2):'hi'} # 튜플은 고정이기때문에 가능!\n",
        "a"
      ],
      "execution_count": null,
      "outputs": [
        {
          "output_type": "execute_result",
          "data": {
            "text/plain": [
              "{(1, 2): 'hi'}"
            ]
          },
          "metadata": {},
          "execution_count": 99
        }
      ]
    },
    {
      "cell_type": "code",
      "metadata": {
        "colab": {
          "base_uri": "https://localhost:8080/"
        },
        "id": "fj7GiXPl0mVl",
        "outputId": "3ee0d949-27e9-4072-df52-c270b70b28ec"
      },
      "source": [
        "# 딕셔너리에서 많이 사용 되는 함수들\n",
        "# keys\n",
        "\n",
        "a = {1:'a',2:'b',3:'c'}\n",
        "a.keys()"
      ],
      "execution_count": null,
      "outputs": [
        {
          "output_type": "execute_result",
          "data": {
            "text/plain": [
              "dict_keys([1, 2, 3])"
            ]
          },
          "metadata": {},
          "execution_count": 100
        }
      ]
    },
    {
      "cell_type": "code",
      "metadata": {
        "colab": {
          "base_uri": "https://localhost:8080/"
        },
        "id": "bytZWNMZ1eAY",
        "outputId": "ce7f3bdd-c709-48db-cd1e-9edd217b913b"
      },
      "source": [
        "#values\n",
        "a = {1:'a',2:'b',3:'c'}\n",
        "a.values()"
      ],
      "execution_count": null,
      "outputs": [
        {
          "output_type": "execute_result",
          "data": {
            "text/plain": [
              "dict_values(['a', 'b', 'c'])"
            ]
          },
          "metadata": {},
          "execution_count": 102
        }
      ]
    },
    {
      "cell_type": "code",
      "metadata": {
        "colab": {
          "base_uri": "https://localhost:8080/"
        },
        "id": "IJ2JPNIa1mYz",
        "outputId": "a0842be9-085a-4bb4-b912-bd6a8cc84be8"
      },
      "source": [
        "#items\n",
        "a = {1:'a',2:'b',3:'c'}\n",
        "a.items()"
      ],
      "execution_count": null,
      "outputs": [
        {
          "output_type": "execute_result",
          "data": {
            "text/plain": [
              "dict_items([(1, 'a'), (2, 'b'), (3, 'c')])"
            ]
          },
          "metadata": {},
          "execution_count": 103
        }
      ]
    },
    {
      "cell_type": "code",
      "metadata": {
        "colab": {
          "base_uri": "https://localhost:8080/"
        },
        "id": "21zJilNz1ruG",
        "outputId": "f15b46e3-129e-43ae-91ea-633da36fe136"
      },
      "source": [
        "#in\n",
        "a = {1:'a',2:'b',3:'c'}\n",
        "1 in a"
      ],
      "execution_count": null,
      "outputs": [
        {
          "output_type": "execute_result",
          "data": {
            "text/plain": [
              "True"
            ]
          },
          "metadata": {},
          "execution_count": 105
        }
      ]
    },
    {
      "cell_type": "code",
      "metadata": {
        "colab": {
          "base_uri": "https://localhost:8080/"
        },
        "id": "Uv6cF68K5k01",
        "outputId": "46fa94fa-ce42-4113-8e12-bd9d480822cb"
      },
      "source": [
        "# Set (집합)\n",
        "# 중복을 허용하지 않는다.\n",
        "# 순서가 없다. (인덱싱, 슬라이싱 불가능)\n",
        "# 리스트나 튜플은 순서가 있기 때문에 ordered 인덱싱을 통해 값을 얻을 수 있다.\n",
        "# 중복을 허용 하지 않는 set의 특징으로 자료형의 중복을 제거 하기 위한 필터 역할로 사용된다.\n",
        "\n",
        "\n",
        "s1 = set([1,2,3])\n",
        "print(s1)\n",
        "s2 = set(\"Hello\")\n",
        "print(s2)"
      ],
      "execution_count": null,
      "outputs": [
        {
          "output_type": "stream",
          "name": "stdout",
          "text": [
            "{1, 2, 3}\n",
            "{'o', 'l', 'e', 'H'}\n"
          ]
        }
      ]
    },
    {
      "cell_type": "code",
      "metadata": {
        "colab": {
          "base_uri": "https://localhost:8080/"
        },
        "id": "7PPk9E0_6xqK",
        "outputId": "35b33c63-d0bb-4222-cf1d-05c1bdcebbd9"
      },
      "source": [
        "s1 = set([1,2,3])\n",
        "s1\n",
        "type(s1)"
      ],
      "execution_count": null,
      "outputs": [
        {
          "output_type": "execute_result",
          "data": {
            "text/plain": [
              "{1, 2, 3}"
            ]
          },
          "metadata": {},
          "execution_count": 110
        }
      ]
    },
    {
      "cell_type": "code",
      "metadata": {
        "colab": {
          "base_uri": "https://localhost:8080/"
        },
        "id": "aMUOmBxj63CV",
        "outputId": "d631c5f1-3947-434b-9602-fb29552a81e2"
      },
      "source": [
        "l1 = list(s1)\n",
        "l1\n",
        "type(l1)"
      ],
      "execution_count": null,
      "outputs": [
        {
          "output_type": "execute_result",
          "data": {
            "text/plain": [
              "[1, 2, 3]"
            ]
          },
          "metadata": {},
          "execution_count": 114
        }
      ]
    },
    {
      "cell_type": "code",
      "metadata": {
        "colab": {
          "base_uri": "https://localhost:8080/"
        },
        "id": "GHnHA8y87ddf",
        "outputId": "be1b6a42-aa31-44d9-9923-8a1e58f019da"
      },
      "source": [
        "# 교집합 합집합 차집합\n",
        "\n",
        "s1 = set([1,2,3,4,5,6])\n",
        "s2 = set([4,5,6,7,8,9])\n",
        "\n",
        "#1. 교집합\n",
        "print(s1 & s2)\n",
        "s1.intersection(s2)"
      ],
      "execution_count": null,
      "outputs": [
        {
          "output_type": "stream",
          "name": "stdout",
          "text": [
            "{4, 5, 6}\n"
          ]
        },
        {
          "output_type": "execute_result",
          "data": {
            "text/plain": [
              "{4, 5, 6}"
            ]
          },
          "metadata": {},
          "execution_count": 117
        }
      ]
    },
    {
      "cell_type": "code",
      "metadata": {
        "colab": {
          "base_uri": "https://localhost:8080/"
        },
        "id": "YfGT8XBi8Dn5",
        "outputId": "96dd9a8e-82c9-4479-f48c-326acffde58a"
      },
      "source": [
        "#2. 합집합\n",
        "print(s1 | s2)\n",
        "s1.union(s2)"
      ],
      "execution_count": null,
      "outputs": [
        {
          "output_type": "stream",
          "name": "stdout",
          "text": [
            "{1, 2, 3, 4, 5, 6, 7, 8, 9}\n"
          ]
        },
        {
          "output_type": "execute_result",
          "data": {
            "text/plain": [
              "{1, 2, 3, 4, 5, 6, 7, 8, 9}"
            ]
          },
          "metadata": {},
          "execution_count": 119
        }
      ]
    },
    {
      "cell_type": "code",
      "metadata": {
        "colab": {
          "base_uri": "https://localhost:8080/"
        },
        "id": "LfbT2G5t8TOZ",
        "outputId": "2f129e9b-6488-45eb-a0dc-26154d1dca3e"
      },
      "source": [
        "#3. 차집합\n",
        "s1 - s2"
      ],
      "execution_count": null,
      "outputs": [
        {
          "output_type": "execute_result",
          "data": {
            "text/plain": [
              "{1, 2, 3}"
            ]
          },
          "metadata": {},
          "execution_count": 123
        }
      ]
    },
    {
      "cell_type": "code",
      "metadata": {
        "colab": {
          "base_uri": "https://localhost:8080/"
        },
        "id": "UCxO6SNX8hYo",
        "outputId": "68e0e3b5-0201-4cae-81f5-11e61d18a0ca"
      },
      "source": [
        "s2 - s1"
      ],
      "execution_count": null,
      "outputs": [
        {
          "output_type": "execute_result",
          "data": {
            "text/plain": [
              "{7, 8, 9}"
            ]
          },
          "metadata": {},
          "execution_count": 124
        }
      ]
    },
    {
      "cell_type": "code",
      "metadata": {
        "colab": {
          "base_uri": "https://localhost:8080/"
        },
        "id": "N2PbhHxp85uT",
        "outputId": "b7e576be-3ab9-4c56-d9cd-462b8c904586"
      },
      "source": [
        "# 집합 관련 함수들..\n",
        "\n",
        "#add 1개 추가\n",
        "\n",
        "s1 = set([1,2,3])\n",
        "s1.add(4)\n",
        "s1"
      ],
      "execution_count": null,
      "outputs": [
        {
          "output_type": "execute_result",
          "data": {
            "text/plain": [
              "{1, 2, 3, 4}"
            ]
          },
          "metadata": {},
          "execution_count": 125
        }
      ]
    },
    {
      "cell_type": "code",
      "metadata": {
        "colab": {
          "base_uri": "https://localhost:8080/"
        },
        "id": "bLUmwJ9S9CWO",
        "outputId": "e97e7d15-c54b-4b9d-be96-891955563397"
      },
      "source": [
        "#update 여러개 추가\n",
        "\n",
        "s1 = set([1,2,3])\n",
        "s1.update([4,5,6])\n",
        "s1"
      ],
      "execution_count": null,
      "outputs": [
        {
          "output_type": "execute_result",
          "data": {
            "text/plain": [
              "{1, 2, 3, 4, 5, 6}"
            ]
          },
          "metadata": {},
          "execution_count": 128
        }
      ]
    },
    {
      "cell_type": "code",
      "metadata": {
        "colab": {
          "base_uri": "https://localhost:8080/"
        },
        "id": "SmFy7p369oC5",
        "outputId": "c01e240a-993d-465c-e239-8c7dfb6ab21d"
      },
      "source": [
        "# remove 특정값 제거\n",
        "\n",
        "s1 = set([1,2,3])\n",
        "s1.remove(2)\n",
        "s1"
      ],
      "execution_count": null,
      "outputs": [
        {
          "output_type": "execute_result",
          "data": {
            "text/plain": [
              "{1, 3}"
            ]
          },
          "metadata": {},
          "execution_count": 129
        }
      ]
    },
    {
      "cell_type": "code",
      "metadata": {
        "colab": {
          "base_uri": "https://localhost:8080/"
        },
        "id": "LgJNW_7j9H7K",
        "outputId": "d657b8d8-9b83-473f-c8ff-b0e806de862b"
      },
      "source": [
        "# Bool 자료형 boolean 참 True 거짓 False ( 첫문자는 반드시 대문자 )\n",
        "a = True\n",
        "b = False\n",
        "type(a)"
      ],
      "execution_count": null,
      "outputs": [
        {
          "output_type": "execute_result",
          "data": {
            "text/plain": [
              "bool"
            ]
          },
          "metadata": {},
          "execution_count": 132
        }
      ]
    },
    {
      "cell_type": "code",
      "metadata": {
        "colab": {
          "base_uri": "https://localhost:8080/"
        },
        "id": "-HwaTiIC-ath",
        "outputId": "14e70b3b-f5a1-4f72-d3fa-8c7cdc1baad4"
      },
      "source": [
        "a == b"
      ],
      "execution_count": null,
      "outputs": [
        {
          "output_type": "execute_result",
          "data": {
            "text/plain": [
              "False"
            ]
          },
          "metadata": {},
          "execution_count": 133
        }
      ]
    },
    {
      "cell_type": "code",
      "metadata": {
        "colab": {
          "base_uri": "https://localhost:8080/"
        },
        "id": "WuiJF9Y4-cp6",
        "outputId": "d214853d-f6f9-4b65-8902-12d3a6aff3d2"
      },
      "source": [
        "a != b"
      ],
      "execution_count": null,
      "outputs": [
        {
          "output_type": "execute_result",
          "data": {
            "text/plain": [
              "True"
            ]
          },
          "metadata": {},
          "execution_count": 134
        }
      ]
    },
    {
      "cell_type": "code",
      "metadata": {
        "colab": {
          "base_uri": "https://localhost:8080/"
        },
        "id": "vQnrK03p-eXE",
        "outputId": "301f291d-1f48-459d-8c61-4e675db76c7c"
      },
      "source": [
        "2 > 1"
      ],
      "execution_count": null,
      "outputs": [
        {
          "output_type": "execute_result",
          "data": {
            "text/plain": [
              "True"
            ]
          },
          "metadata": {},
          "execution_count": 135
        }
      ]
    },
    {
      "cell_type": "code",
      "metadata": {
        "id": "uznnALHH-lCG"
      },
      "source": [
        "\"\", [] ,() ,{} , None, 0 -> 거짓"
      ],
      "execution_count": null,
      "outputs": []
    },
    {
      "cell_type": "code",
      "metadata": {
        "colab": {
          "base_uri": "https://localhost:8080/"
        },
        "id": "tcbSENAV_OyK",
        "outputId": "13b4a704-156a-4d7e-ac32-1bc11a9c96c4"
      },
      "source": [
        "a = [1,2,3,4]\n",
        "while a:\n",
        "   print(a.pop())"
      ],
      "execution_count": null,
      "outputs": [
        {
          "output_type": "stream",
          "name": "stdout",
          "text": [
            "4\n",
            "3\n",
            "2\n",
            "1\n"
          ]
        }
      ]
    },
    {
      "cell_type": "code",
      "metadata": {
        "colab": {
          "base_uri": "https://localhost:8080/"
        },
        "id": "rYgo5cVN_5Zf",
        "outputId": "1c94ad06-bbf0-4a2c-aee6-7e01bdc783c3"
      },
      "source": [
        "if[]:\n",
        "  print(\"참\")\n",
        "else:\n",
        "  print(\"거짓\")"
      ],
      "execution_count": null,
      "outputs": [
        {
          "output_type": "stream",
          "name": "stdout",
          "text": [
            "참\n"
          ]
        }
      ]
    },
    {
      "cell_type": "code",
      "metadata": {
        "id": "gr6OUHNxAugO"
      },
      "source": [
        "# 자료형 총정리\n",
        "# 가장 기본이 되는 자료형, 숫자, 문자열, 리스트, 튜플, 딕셔너리, 집합, 불\n",
        "# 여기까지 50% 그만큼 중요하다.\n",
        "# 데이터 프레임(pandas)"
      ],
      "execution_count": null,
      "outputs": []
    },
    {
      "cell_type": "code",
      "metadata": {
        "colab": {
          "base_uri": "https://localhost:8080/"
        },
        "id": "bghuQcsHBci-",
        "outputId": "bdb35866-85cb-41bf-ffaf-9be24464701e"
      },
      "source": [
        "# 변수  어떤 값이 들어가 있는 메모리의 위치를 가리킨다.\n",
        "#        다른 언어에서는 자료형을 직접 지정해줘야하지만 파이썬은 스스로 판단해서 저장한다.\n",
        "\n",
        "a = 1\n",
        "b = 'python'\n",
        "\n",
        "id(a)"
      ],
      "execution_count": null,
      "outputs": [
        {
          "output_type": "execute_result",
          "data": {
            "text/plain": [
              "94635747756544"
            ]
          },
          "metadata": {},
          "execution_count": 144
        }
      ]
    },
    {
      "cell_type": "code",
      "metadata": {
        "colab": {
          "base_uri": "https://localhost:8080/"
        },
        "id": "J34NxUMPCSCn",
        "outputId": "62d12a61-c647-4992-804f-d481f10d37f0"
      },
      "source": [
        "id(b)"
      ],
      "execution_count": null,
      "outputs": [
        {
          "output_type": "execute_result",
          "data": {
            "text/plain": [
              "139901792733168"
            ]
          },
          "metadata": {},
          "execution_count": 145
        }
      ]
    },
    {
      "cell_type": "code",
      "metadata": {
        "colab": {
          "base_uri": "https://localhost:8080/"
        },
        "id": "3o3TiOSkDAGW",
        "outputId": "b7488792-932a-4f46-af3f-27cdd1a8519c"
      },
      "source": [
        "a = [1,2,3]\n",
        "b = a\n",
        "print(id(a))\n",
        "print(id(b))"
      ],
      "execution_count": null,
      "outputs": [
        {
          "output_type": "stream",
          "name": "stdout",
          "text": [
            "139901105975616\n",
            "139901105975616\n"
          ]
        }
      ]
    },
    {
      "cell_type": "code",
      "metadata": {
        "colab": {
          "base_uri": "https://localhost:8080/"
        },
        "id": "7M8o_NqjDH3w",
        "outputId": "3dc239ff-ce6c-4bda-c34b-ec0169126e73"
      },
      "source": [
        "a is b #a와b가 가리키는 객체가 같은거니?"
      ],
      "execution_count": null,
      "outputs": [
        {
          "output_type": "execute_result",
          "data": {
            "text/plain": [
              "True"
            ]
          },
          "metadata": {},
          "execution_count": 152
        }
      ]
    },
    {
      "cell_type": "code",
      "metadata": {
        "colab": {
          "base_uri": "https://localhost:8080/"
        },
        "id": "PsE_JyydGVSK",
        "outputId": "9942896a-441a-4477-dbb2-5ffc5d23e861"
      },
      "source": [
        "a[1] = 4\n",
        "a"
      ],
      "execution_count": null,
      "outputs": [
        {
          "output_type": "execute_result",
          "data": {
            "text/plain": [
              "[1, 4, 3]"
            ]
          },
          "metadata": {},
          "execution_count": 156
        }
      ]
    },
    {
      "cell_type": "code",
      "metadata": {
        "colab": {
          "base_uri": "https://localhost:8080/"
        },
        "id": "lrCKZiTFGjHK",
        "outputId": "4bcb2768-fba6-4ae5-9fb2-60704b3b85cb"
      },
      "source": [
        "b"
      ],
      "execution_count": null,
      "outputs": [
        {
          "output_type": "execute_result",
          "data": {
            "text/plain": [
              "[1, 4, 3]"
            ]
          },
          "metadata": {},
          "execution_count": 157
        }
      ]
    },
    {
      "cell_type": "code",
      "metadata": {
        "colab": {
          "base_uri": "https://localhost:8080/"
        },
        "id": "df_VMk8eG2QD",
        "outputId": "0135b009-af67-4f8b-9958-2f4ee9de3f3c"
      },
      "source": [
        "a= [1,2,3]\n",
        "b = a[:]\n",
        "a[1] = 4\n",
        "a"
      ],
      "execution_count": null,
      "outputs": [
        {
          "output_type": "execute_result",
          "data": {
            "text/plain": [
              "[1, 4, 3]"
            ]
          },
          "metadata": {},
          "execution_count": 159
        }
      ]
    },
    {
      "cell_type": "code",
      "metadata": {
        "colab": {
          "base_uri": "https://localhost:8080/"
        },
        "id": "LUbVd-FFHBah",
        "outputId": "4bb5985f-d8da-4863-cade-6ec390c329f4"
      },
      "source": [
        "b"
      ],
      "execution_count": null,
      "outputs": [
        {
          "output_type": "execute_result",
          "data": {
            "text/plain": [
              "[1, 2, 3]"
            ]
          },
          "metadata": {},
          "execution_count": 160
        }
      ]
    },
    {
      "cell_type": "code",
      "metadata": {
        "colab": {
          "base_uri": "https://localhost:8080/"
        },
        "id": "S9MoHp7BHEy5",
        "outputId": "14b557f7-ef44-459d-c6c9-fd7a42598308"
      },
      "source": [
        "id(a)"
      ],
      "execution_count": null,
      "outputs": [
        {
          "output_type": "execute_result",
          "data": {
            "text/plain": [
              "139901098732272"
            ]
          },
          "metadata": {},
          "execution_count": 161
        }
      ]
    },
    {
      "cell_type": "code",
      "metadata": {
        "colab": {
          "base_uri": "https://localhost:8080/"
        },
        "id": "p5CwX0wLHG8q",
        "outputId": "4ef21613-df81-4509-feec-4fe8c21c4eb2"
      },
      "source": [
        "id(b)"
      ],
      "execution_count": null,
      "outputs": [
        {
          "output_type": "execute_result",
          "data": {
            "text/plain": [
              "139901098714848"
            ]
          },
          "metadata": {},
          "execution_count": 162
        }
      ]
    },
    {
      "cell_type": "code",
      "metadata": {
        "id": "DL7UObFtHV3D"
      },
      "source": [
        "from copy import copy\n",
        "a = [1,2,3]\n",
        "b = copy(a)\n"
      ],
      "execution_count": null,
      "outputs": []
    },
    {
      "cell_type": "code",
      "metadata": {
        "colab": {
          "base_uri": "https://localhost:8080/"
        },
        "id": "IMRoKDQYHpmb",
        "outputId": "978e3fd7-6d2e-42f4-c57d-2bb54e6c9142"
      },
      "source": [
        "b is a"
      ],
      "execution_count": null,
      "outputs": [
        {
          "output_type": "execute_result",
          "data": {
            "text/plain": [
              "False"
            ]
          },
          "metadata": {},
          "execution_count": 164
        }
      ]
    },
    {
      "cell_type": "code",
      "metadata": {
        "colab": {
          "base_uri": "https://localhost:8080/"
        },
        "id": "sZHTim_OHrhf",
        "outputId": "d9a76634-1c11-4de7-ad09-215f9b338ff9"
      },
      "source": [
        "id(a)"
      ],
      "execution_count": null,
      "outputs": [
        {
          "output_type": "execute_result",
          "data": {
            "text/plain": [
              "139901098472624"
            ]
          },
          "metadata": {},
          "execution_count": 165
        }
      ]
    },
    {
      "cell_type": "code",
      "metadata": {
        "colab": {
          "base_uri": "https://localhost:8080/"
        },
        "id": "avv0bZVlHtdG",
        "outputId": "3ce06796-a4f8-4416-9ee0-4a4a44d2d596"
      },
      "source": [
        "id(b)"
      ],
      "execution_count": null,
      "outputs": [
        {
          "output_type": "execute_result",
          "data": {
            "text/plain": [
              "139901098681520"
            ]
          },
          "metadata": {},
          "execution_count": 166
        }
      ]
    },
    {
      "cell_type": "code",
      "metadata": {
        "colab": {
          "base_uri": "https://localhost:8080/",
          "height": 35
        },
        "id": "HFxlZfnKH8P1",
        "outputId": "b197a841-2503-48ec-84be-f4e7fc076e5b"
      },
      "source": [
        "a, b = ('python', 'great')\n"
      ],
      "execution_count": null,
      "outputs": [
        {
          "output_type": "execute_result",
          "data": {
            "application/vnd.google.colaboratory.intrinsic+json": {
              "type": "string"
            },
            "text/plain": [
              "'great'"
            ]
          },
          "metadata": {},
          "execution_count": 168
        }
      ]
    },
    {
      "cell_type": "code",
      "metadata": {
        "id": "E1_Q8kVfIImy"
      },
      "source": [
        "(a,b) = 'python', 'great'"
      ],
      "execution_count": null,
      "outputs": []
    },
    {
      "cell_type": "code",
      "metadata": {
        "colab": {
          "base_uri": "https://localhost:8080/",
          "height": 35
        },
        "id": "8x-YdNBeIM6l",
        "outputId": "af8b8ce7-e0ce-4f18-b7d7-fda20907bcde"
      },
      "source": [
        "a = b = 'python'"
      ],
      "execution_count": null,
      "outputs": [
        {
          "output_type": "execute_result",
          "data": {
            "application/vnd.google.colaboratory.intrinsic+json": {
              "type": "string"
            },
            "text/plain": [
              "'python'"
            ]
          },
          "metadata": {},
          "execution_count": 170
        }
      ]
    },
    {
      "cell_type": "code",
      "metadata": {
        "colab": {
          "base_uri": "https://localhost:8080/"
        },
        "id": "gyP51WzJITXo",
        "outputId": "d4a6db17-30b8-4214-bb91-941228d88b18"
      },
      "source": [
        "a = 5\n",
        "b = 10\n",
        "\n",
        "#ab값을 서로 바꾸고 싶으면 (자바 와 C 는  임시 변수로 지정)\n",
        "# t = a\n",
        "# a = b\n",
        "# b = t\n",
        "\n",
        "#파이썬에서는 아래와같은 방식이 정리가 가능하다\n",
        "a, b = b, a"
      ],
      "execution_count": null,
      "outputs": [
        {
          "output_type": "execute_result",
          "data": {
            "text/plain": [
              "5"
            ]
          },
          "metadata": {},
          "execution_count": 174
        }
      ]
    },
    {
      "cell_type": "code",
      "metadata": {
        "colab": {
          "base_uri": "https://localhost:8080/"
        },
        "id": "WSEgjVPyJAos",
        "outputId": "81c1c073-08d9-4136-ebed-1fc6ec8fc9c5"
      },
      "source": [
        "# 문제 풀기..\n",
        "\n",
        "#1. 정수 13이 홀수 인지 짝수인지 어떻게 판별할수 있을까\n",
        "13%2\n"
      ],
      "execution_count": null,
      "outputs": [
        {
          "output_type": "execute_result",
          "data": {
            "text/plain": [
              "1"
            ]
          },
          "metadata": {},
          "execution_count": 175
        }
      ]
    },
    {
      "cell_type": "code",
      "metadata": {
        "colab": {
          "base_uri": "https://localhost:8080/"
        },
        "id": "qCYOGn-1KWS-",
        "outputId": "05e32f89-79eb-44ee-ba2b-4ade96356945"
      },
      "source": [
        "#어떤수가 어떤수의 배수인지 어떻게 판별할수 있을까..\n",
        "9%3\n",
        "9%5\n",
        "# 나머지 연산자로 몫이 0일경우엔 배수이고 그외의 숫자가 나온다면 배수가 아니겠지"
      ],
      "execution_count": null,
      "outputs": [
        {
          "output_type": "execute_result",
          "data": {
            "text/plain": [
              "4"
            ]
          },
          "metadata": {},
          "execution_count": 177
        }
      ]
    },
    {
      "cell_type": "code",
      "metadata": {
        "colab": {
          "base_uri": "https://localhost:8080/",
          "height": 35
        },
        "id": "HvQQmw4rK3vf",
        "outputId": "7cb4089d-8bff-46c8-bcb7-3c432d5ac976"
      },
      "source": [
        "#홍길동 학생의 주민번호가 881120-1073834\n",
        "#1. 생년월일만 출력\n",
        "#2. 뒷자리 7개만 출력\n",
        "#3. 성별을 나타내는 숫자를 출력\n",
        "hong = '881120-1073834'\n",
        "birth = hong[:6]\n",
        "num = hong[7:]\n",
        "hong[7]"
      ],
      "execution_count": null,
      "outputs": [
        {
          "output_type": "execute_result",
          "data": {
            "application/vnd.google.colaboratory.intrinsic+json": {
              "type": "string"
            },
            "text/plain": [
              "'1'"
            ]
          },
          "metadata": {},
          "execution_count": 186
        }
      ]
    },
    {
      "cell_type": "code",
      "metadata": {
        "colab": {
          "base_uri": "https://localhost:8080/",
          "height": 35
        },
        "id": "AlmZqag4Lo40",
        "outputId": "f157afad-a5d3-4698-fe0d-a50344561406"
      },
      "source": [
        "a = ['life','is','too','short'] #한문장으로 만들어 보자..\n",
        "result = \" \".join(a)\n",
        "result"
      ],
      "execution_count": null,
      "outputs": [
        {
          "output_type": "execute_result",
          "data": {
            "application/vnd.google.colaboratory.intrinsic+json": {
              "type": "string"
            },
            "text/plain": [
              "'life is too short'"
            ]
          },
          "metadata": {},
          "execution_count": 192
        }
      ]
    },
    {
      "cell_type": "code",
      "metadata": {
        "colab": {
          "base_uri": "https://localhost:8080/"
        },
        "id": "OHIkDHdwNWOD",
        "outputId": "9d30c3cf-06ef-4342-8c63-0c9bdc31e486"
      },
      "source": [
        "a = (1,2,3)\n",
        "print(id(a))\n",
        "a = a+(4,) #튜플 자료형에 1개의 원소만 나타낼 때는 쉼표를 붙인다!\n",
        "print(id(a))"
      ],
      "execution_count": null,
      "outputs": [
        {
          "output_type": "stream",
          "name": "stdout",
          "text": [
            "139901098801344\n",
            "139901098495632\n"
          ]
        }
      ]
    },
    {
      "cell_type": "code",
      "metadata": {
        "colab": {
          "base_uri": "https://localhost:8080/"
        },
        "id": "5Q4ZuzoSNlEq",
        "outputId": "729a8984-2e95-4576-8a97-8955af8d6940"
      },
      "source": [
        "id(a)"
      ],
      "execution_count": null,
      "outputs": [
        {
          "output_type": "execute_result",
          "data": {
            "text/plain": [
              "139901098493136"
            ]
          },
          "metadata": {},
          "execution_count": 201
        }
      ]
    },
    {
      "cell_type": "code",
      "metadata": {
        "colab": {
          "base_uri": "https://localhost:8080/"
        },
        "id": "GI7PPALuNnNS",
        "outputId": "6b7cbf04-ebd4-4ae9-ff48-3342f2f70338"
      },
      "source": [
        "# if\n",
        "# 자료형은 나무 돌 시멘트 같은 재료이고\n",
        "# 제어문은 철근같은 건물의 뼈대\n",
        "# 참과 거짓을 판단한다..\n",
        "\n",
        "money = True\n",
        "\n",
        "if money:\n",
        "  print(\"택시를 타자\")\n",
        "else:\n",
        "  print(\"걸어 가자\")\n",
        "\n"
      ],
      "execution_count": null,
      "outputs": [
        {
          "output_type": "stream",
          "name": "stdout",
          "text": [
            "택시를 타자\n"
          ]
        }
      ]
    },
    {
      "cell_type": "code",
      "metadata": {
        "colab": {
          "base_uri": "https://localhost:8080/"
        },
        "id": "muYPbArVUkVA",
        "outputId": "e516720e-9454-49be-a5d9-67b084e4fc7d"
      },
      "source": [
        "# 비교 연산자.\n",
        "x,y = 1,2 \n",
        "x < y\n",
        "x > y\n",
        "x == y\n",
        "x != y\n",
        "x >= y\n",
        "x <= y \n",
        "\n",
        "x or y\n",
        "x and y\n"
      ],
      "execution_count": null,
      "outputs": [
        {
          "output_type": "execute_result",
          "data": {
            "text/plain": [
              "3"
            ]
          },
          "metadata": {},
          "execution_count": 211
        }
      ]
    },
    {
      "cell_type": "code",
      "metadata": {
        "colab": {
          "base_uri": "https://localhost:8080/"
        },
        "id": "E0JgWvDBVlJI",
        "outputId": "4f6c7106-e536-4852-a5ca-f2283982f0d6"
      },
      "source": [
        "money = 2000\n",
        "card = True\n",
        "\n",
        "if money >= 3000 or card:\n",
        "  print(\"택시\")\n",
        "else:\n",
        "  print(\"걷기\")"
      ],
      "execution_count": null,
      "outputs": [
        {
          "output_type": "stream",
          "name": "stdout",
          "text": [
            "택시\n"
          ]
        }
      ]
    },
    {
      "cell_type": "code",
      "metadata": {
        "colab": {
          "base_uri": "https://localhost:8080/"
        },
        "id": "qgl2BZLGUFyv",
        "outputId": "a1214725-8f63-490e-9698-edb763ebb470"
      },
      "source": [
        "pocket = ['paper', 'cellphone','money']\n",
        "if 'money' not in pocket:\n",
        "  print('택시')\n",
        "else:\n",
        "  print('걷기')"
      ],
      "execution_count": null,
      "outputs": [
        {
          "output_type": "stream",
          "name": "stdout",
          "text": [
            "택시\n"
          ]
        }
      ]
    },
    {
      "cell_type": "code",
      "metadata": {
        "colab": {
          "base_uri": "https://localhost:8080/"
        },
        "id": "t60BvPE2XVKe",
        "outputId": "f520ee03-eff7-4bd7-a5d3-1101f402d204"
      },
      "source": [
        "pocket = ['paper', 'cellphone']\n",
        "card = False\n",
        "if 'money' in pocket:\n",
        "  print('택시')\n",
        "elif card: \n",
        "  print('택시')\n",
        "else:\n",
        "  print('걷기')\n",
        "\n",
        "  #즉, elif는 이전 조건문이 거짓을때 수행된다."
      ],
      "execution_count": null,
      "outputs": [
        {
          "output_type": "stream",
          "name": "stdout",
          "text": [
            "걷기\n"
          ]
        }
      ]
    },
    {
      "cell_type": "code",
      "metadata": {
        "colab": {
          "base_uri": "https://localhost:8080/"
        },
        "id": "IFCgtSLOX1pF",
        "outputId": "a013bdb7-b3bf-4fb3-e18a-9374edacf774"
      },
      "source": [
        "#점수가 90 이상이면 'A' , 80 이상이면 'B' , 70 이상이면 'C' , 60 이상이면 'D', 나머지는 전부 F\n",
        "\n",
        "score = \n",
        "\n",
        "if score >= 90 :\n",
        "  print(\"A\")\n",
        "elif score >= 80 :\n",
        "  print(\"B\")\n",
        "elif score >= 70 :\n",
        "  print(\"C\")\n",
        "elif score >= 60 :\n",
        "  print(\"D\")\n",
        "else:\n",
        "  print(\"F\")\n"
      ],
      "execution_count": null,
      "outputs": [
        {
          "output_type": "stream",
          "name": "stdout",
          "text": [
            "B\n"
          ]
        }
      ]
    },
    {
      "cell_type": "code",
      "metadata": {
        "colab": {
          "base_uri": "https://localhost:8080/"
        },
        "id": "OXQcZyDJaAJO",
        "outputId": "188d0455-df08-4c65-c34e-dca2e01b995a"
      },
      "source": [
        "# 반복문 \n",
        "# while (반복횟수가 명확하지 않을 때 , 10시까지 운동장 돌아랏)\n",
        "# for (반복횟수가 명확 할 때 , 운동장을 20바퀴 돌아라) ***\n",
        "\n",
        "# while\n",
        "\n",
        "n = 1\n",
        "while n < 10:\n",
        "  print(n)\n",
        "  n = n+1\n"
      ],
      "execution_count": null,
      "outputs": [
        {
          "output_type": "stream",
          "name": "stdout",
          "text": [
            "1\n",
            "2\n",
            "3\n",
            "4\n",
            "5\n",
            "6\n",
            "7\n",
            "8\n",
            "9\n"
          ]
        }
      ]
    },
    {
      "cell_type": "code",
      "metadata": {
        "colab": {
          "base_uri": "https://localhost:8080/"
        },
        "id": "BS5-VGPibczB",
        "outputId": "942a4d23-41d1-4201-fd4b-acd7608ccd9f"
      },
      "source": [
        "n = 0\n",
        "while n < 10:\n",
        "  n += 1        # n = n + 1\n",
        "  print(\"나무를 %d번 찍었습니다.\" %n) # print(\"나무를 \", n , \"번 찍엇습니다.\")\n",
        "  if n == 10:\n",
        "    print(\"나무 넘어갑니다\")"
      ],
      "execution_count": null,
      "outputs": [
        {
          "output_type": "stream",
          "name": "stdout",
          "text": [
            "나무를 1번 찍었습니다.\n",
            "나무를 2번 찍었습니다.\n",
            "나무를 3번 찍었습니다.\n",
            "나무를 4번 찍었습니다.\n",
            "나무를 5번 찍었습니다.\n",
            "나무를 6번 찍었습니다.\n",
            "나무를 7번 찍었습니다.\n",
            "나무를 8번 찍었습니다.\n",
            "나무를 9번 찍었습니다.\n",
            "나무를 10번 찍었습니다.\n",
            "나무 넘어갑니다\n"
          ]
        }
      ]
    },
    {
      "cell_type": "code",
      "metadata": {
        "colab": {
          "base_uri": "https://localhost:8080/"
        },
        "id": "0MMYSliGdRf7",
        "outputId": "58f721bd-3ebb-4c3e-89eb-a01bdb597ed3"
      },
      "source": [
        " p = '''\n",
        " 1.Add\n",
        " 2.Del\n",
        " 3.List\n",
        " 4.Quit\n",
        "\n",
        " Enter number : '''     #아까 배운 ''' 이용해서 안에 입력 해놓고\n",
        "\n",
        "n = 0\n",
        "while n != 4:\n",
        "  print(p)\n",
        "  n = int(input())\n",
        "  #input()으로 입력 받은 모든 값은 문자이기때문에 형변환 시켜줘야 한다.\n"
      ],
      "execution_count": null,
      "outputs": [
        {
          "name": "stdout",
          "output_type": "stream",
          "text": [
            "\n",
            "1.Add\n",
            "2.Del\n",
            "3.List\n",
            "4.Quit\n",
            "\n",
            "Enter number : \n",
            "4\n"
          ]
        }
      ]
    },
    {
      "cell_type": "code",
      "metadata": {
        "colab": {
          "base_uri": "https://localhost:8080/"
        },
        "id": "j1BMf2OuedC3",
        "outputId": "bfbd8dcf-cfef-478a-f1a6-fe7352dc83cf"
      },
      "source": [
        "# while 문을 사용하여 1부터 1000까지의 수중 3의 배수의 합을 구해보자\n",
        "\n",
        "n = 0\n",
        "sum = 0\n",
        "while n<=1000:\n",
        "  n+=1\n",
        "  if(n%3==0):\n",
        "    sum +=n\n",
        "print(sum)\n",
        "\n",
        "\n",
        "  "
      ],
      "execution_count": null,
      "outputs": [
        {
          "output_type": "stream",
          "name": "stdout",
          "text": [
            "166833\n"
          ]
        }
      ]
    },
    {
      "cell_type": "code",
      "metadata": {
        "colab": {
          "base_uri": "https://localhost:8080/"
        },
        "id": "h4pH5wWTe5ry",
        "outputId": "eb564ae7-e6c3-4491-d9d0-e6a80877721a"
      },
      "source": [
        "print('Hello World')"
      ],
      "execution_count": null,
      "outputs": [
        {
          "output_type": "stream",
          "name": "stdout",
          "text": [
            "Hello World\n"
          ]
        }
      ]
    },
    {
      "cell_type": "code",
      "metadata": {
        "colab": {
          "base_uri": "https://localhost:8080/"
        },
        "id": "fk1oC20Ci2TV",
        "outputId": "4d152b8c-8851-4d9d-c64c-f811f8b83b34"
      },
      "source": [
        "print(\"Mary's cosmetics\")"
      ],
      "execution_count": null,
      "outputs": [
        {
          "output_type": "stream",
          "name": "stdout",
          "text": [
            "Mary's cosmetics\n"
          ]
        }
      ]
    },
    {
      "cell_type": "code",
      "metadata": {
        "colab": {
          "base_uri": "https://localhost:8080/"
        },
        "id": "4Nu3tgFJi78Q",
        "outputId": "0ba831f9-d4f1-415c-e0cb-93ab0a66d587"
      },
      "source": [
        "  print(\"김씨가 소리를 질렀다. \\\"도둑이야\\\".\")"
      ],
      "execution_count": null,
      "outputs": [
        {
          "output_type": "stream",
          "name": "stdout",
          "text": [
            "김씨가 소리를 질렀다. \"도둑이야\".\n"
          ]
        }
      ]
    },
    {
      "cell_type": "code",
      "metadata": {
        "colab": {
          "base_uri": "https://localhost:8080/"
        },
        "id": "wpgKMgZfjKm_",
        "outputId": "8a634417-da58-426a-b109-31b1f0f0e0fa"
      },
      "source": [
        "print(\"\\\"C:\\Windows\\\"\")"
      ],
      "execution_count": null,
      "outputs": [
        {
          "output_type": "stream",
          "name": "stdout",
          "text": [
            "\"C:\\Windows\"\n"
          ]
        }
      ]
    },
    {
      "cell_type": "code",
      "metadata": {
        "colab": {
          "base_uri": "https://localhost:8080/"
        },
        "id": "GbGgKw6FjRMI",
        "outputId": "1a0652d4-6b42-472d-b123-de0f2f33dd1c"
      },
      "source": [
        "\\n은 줄바꿈 \\t는 띄어쓰기 문장입니다\n",
        "print(\"안녕하세요.\\n만나서\\t\\t반갑습니다.\")"
      ],
      "execution_count": null,
      "outputs": [
        {
          "output_type": "stream",
          "name": "stdout",
          "text": [
            "안녕하세요.\n",
            "만나서\t\t반갑습니다.\n"
          ]
        }
      ]
    },
    {
      "cell_type": "code",
      "metadata": {
        "colab": {
          "base_uri": "https://localhost:8080/"
        },
        "id": "c04qE4wejx17",
        "outputId": "221456d4-d47e-47bf-e2df-0d6311b95fbd"
      },
      "source": [
        "print(\"오늘은\",\"일요일\")"
      ],
      "execution_count": null,
      "outputs": [
        {
          "output_type": "stream",
          "name": "stdout",
          "text": [
            "오늘은 일요일\n"
          ]
        }
      ]
    },
    {
      "cell_type": "code",
      "metadata": {
        "colab": {
          "base_uri": "https://localhost:8080/"
        },
        "id": "eerV3neIjrfX",
        "outputId": "174b9dc5-2a76-4e84-a124-2f7e633708d3"
      },
      "source": [
        "print(\"naver;kakao;sk;samsung\")\n",
        "a = ['naver','kakako','sk','samsung']\n",
        "result = \";\".join(a)\n",
        "print(result)"
      ],
      "execution_count": null,
      "outputs": [
        {
          "output_type": "stream",
          "name": "stdout",
          "text": [
            "naver;kakao;sk;samsung\n",
            "naver;kakako;sk;samsung\n"
          ]
        }
      ]
    },
    {
      "cell_type": "code",
      "metadata": {
        "colab": {
          "base_uri": "https://localhost:8080/"
        },
        "id": "mhPjg2M9kU1b",
        "outputId": "0835021c-2a43-4c27-f02e-60808db45888"
      },
      "source": [
        "print(\"first\",end= ' ');print(\"second\")"
      ],
      "execution_count": null,
      "outputs": [
        {
          "output_type": "stream",
          "name": "stdout",
          "text": [
            "first second\n"
          ]
        }
      ]
    },
    {
      "cell_type": "code",
      "metadata": {
        "colab": {
          "base_uri": "https://localhost:8080/"
        },
        "id": "9TPcSj1VlbC0",
        "outputId": "909fea72-eb0f-4b67-b685-68b78eb1ae96"
      },
      "source": [
        "a =5\n",
        "b = 3\n",
        "x = a/b\n",
        "y = a%b\n",
        "print(\"5/3 의 몫은 \",x, \"나머지는 \",y)\n"
      ],
      "execution_count": null,
      "outputs": [
        {
          "output_type": "stream",
          "name": "stdout",
          "text": [
            "5/3 의 몫은  1.6666666666666667 나머지는  2\n"
          ]
        }
      ]
    },
    {
      "cell_type": "code",
      "metadata": {
        "colab": {
          "base_uri": "https://localhost:8080/"
        },
        "id": "b_esL92hlemD",
        "outputId": "0ab3f7a5-c77f-402a-cdfa-67b56fd89189"
      },
      "source": [
        "samsung = 50000\n",
        "juju = 10\n",
        "avg = samsung * juju / juju\n",
        "print(avg)"
      ],
      "execution_count": null,
      "outputs": [
        {
          "output_type": "stream",
          "name": "stdout",
          "text": [
            "50000.0\n"
          ]
        }
      ]
    },
    {
      "cell_type": "code",
      "metadata": {
        "id": "1_J4Zwvxnach"
      },
      "source": [
        "total = 2980000000000\n",
        "now = 50000\n",
        "per = 15.79\n"
      ],
      "execution_count": null,
      "outputs": []
    },
    {
      "cell_type": "code",
      "metadata": {
        "id": "9gQeJ-fCnwvr"
      },
      "source": [
        "8"
      ],
      "execution_count": null,
      "outputs": []
    },
    {
      "cell_type": "code",
      "metadata": {
        "colab": {
          "base_uri": "https://localhost:8080/"
        },
        "id": "--X7vOrun0c1",
        "outputId": "bf5de3fd-f14f-4f0e-fe1d-a55756d1a0cb"
      },
      "source": [
        "string"
      ],
      "execution_count": null,
      "outputs": [
        {
          "output_type": "execute_result",
          "data": {
            "text/plain": [
              "str"
            ]
          },
          "metadata": {},
          "execution_count": 284
        }
      ]
    },
    {
      "cell_type": "code",
      "metadata": {
        "colab": {
          "base_uri": "https://localhost:8080/"
        },
        "id": "j33re8mToQW8",
        "outputId": "dca6dc58-bafe-4524-d18b-1c7cd77537be"
      },
      "source": [
        "aaa= \"15.79\"\n",
        "b=float(aaa)\n",
        "print(b)"
      ],
      "execution_count": null,
      "outputs": [
        {
          "output_type": "stream",
          "name": "stdout",
          "text": [
            "15.79\n"
          ]
        }
      ]
    }
  ]
}