{
  "nbformat": 4,
  "nbformat_minor": 0,
  "metadata": {
    "colab": {
      "name": "PythonDay2.ipynb",
      "provenance": [],
      "collapsed_sections": []
    },
    "kernelspec": {
      "name": "python3",
      "display_name": "Python 3"
    },
    "language_info": {
      "name": "python"
    }
  },
  "cells": [
    {
      "cell_type": "code",
      "metadata": {
        "colab": {
          "base_uri": "https://localhost:8080/"
        },
        "id": "YZ5jXmrAM3sS",
        "outputId": "e683591d-a044-42b6-8ff2-deca9ca8c1fd"
      },
      "source": [
        "# 커피 자판기\n",
        "# 남은 커피가 있으면 판매>판매>판매 더이상 커피가 없으면 판매 중지..\n",
        "\n",
        "coffee = 10\n",
        "money = 300\n",
        "\n",
        "while money:\n",
        "  print(\"커피를 판매합니다\")\n",
        "  coffee -= 1 # coffee = coffee -1\n",
        "  print(\"남은 커피의 양은 %d개 입니다\" %coffee)\n",
        "  if coffee == 0:\n",
        "    print(\"커피가 다 떨어졌습니다. 판매를 중지합니다\")\n",
        "    break"
      ],
      "execution_count": null,
      "outputs": [
        {
          "output_type": "stream",
          "name": "stdout",
          "text": [
            "커피를 판매합니다\n",
            "남은 커피의 양은 9개 입니다\n",
            "커피를 판매합니다\n",
            "남은 커피의 양은 8개 입니다\n",
            "커피를 판매합니다\n",
            "남은 커피의 양은 7개 입니다\n",
            "커피를 판매합니다\n",
            "남은 커피의 양은 6개 입니다\n",
            "커피를 판매합니다\n",
            "남은 커피의 양은 5개 입니다\n",
            "커피를 판매합니다\n",
            "남은 커피의 양은 4개 입니다\n",
            "커피를 판매합니다\n",
            "남은 커피의 양은 3개 입니다\n",
            "커피를 판매합니다\n",
            "남은 커피의 양은 2개 입니다\n",
            "커피를 판매합니다\n",
            "남은 커피의 양은 1개 입니다\n",
            "커피를 판매합니다\n",
            "남은 커피의 양은 0개 입니다\n",
            "커피가 다 떨어졌습니다. 판매를 중지합니다\n"
          ]
        }
      ]
    },
    {
      "cell_type": "code",
      "metadata": {
        "colab": {
          "base_uri": "https://localhost:8080/"
        },
        "id": "2WgWSum7OWrA",
        "outputId": "1103cba9-52a6-4163-e97c-242f084c23aa"
      },
      "source": [
        "coffee = 10\n",
        "while True:\n",
        "  money =int(input(\"돈을 넣어주세요:\"))\n",
        "  if mon7ey == 300:\n",
        "    print(\"커피를 한잔 드립니다\")\n",
        "    coffee -= 1\n",
        "  elif money > 300:\n",
        "    print(\"거스름돈 %d 원과 커피를 드립니다.\" %(money-300))\n",
        "    coffee -= 1\n",
        "  else:\n",
        "    print(\"돈이 부족합니다. 커피는 드릴수 없습니다.\")\n",
        "    print(\"남은 커피의 양은 %d개 입니다\" %coffee)\n",
        "  if coffee == 0:\n",
        "    print(\"커피가 다 떨어졌습니다. 판매를 중지합니다.\")\n",
        "    break"
      ],
      "execution_count": null,
      "outputs": [
        {
          "output_type": "stream",
          "name": "stdout",
          "text": [
            "돈을 넣어주세요:300\n",
            "커피를 한잔 드립니다\n",
            "돈을 넣어주세요:400\n",
            "거스름돈 100 원과 커피를 드립니다.\n",
            "돈을 넣어주세요:200\n",
            "돈이 부족합니다. 커피는 드릴수 없습니다.\n",
            "남은 커피의 양은 8개 입니다\n",
            "돈을 넣어주세요:300\n",
            "커피를 한잔 드립니다\n",
            "돈을 넣어주세요:300\n",
            "커피를 한잔 드립니다\n",
            "돈을 넣어주세요:500\n",
            "거스름돈 200 원과 커피를 드립니다.\n",
            "돈을 넣어주세요:600\n",
            "거스름돈 300 원과 커피를 드립니다.\n",
            "돈을 넣어주세요:00\n",
            "돈이 부족합니다. 커피는 드릴수 없습니다.\n",
            "남은 커피의 양은 4개 입니다\n",
            "돈을 넣어주세요:770\n",
            "거스름돈 470 원과 커피를 드립니다.\n",
            "돈을 넣어주세요:230\n",
            "돈이 부족합니다. 커피는 드릴수 없습니다.\n",
            "남은 커피의 양은 3개 입니다\n",
            "돈을 넣어주세요:100\n",
            "돈이 부족합니다. 커피는 드릴수 없습니다.\n",
            "남은 커피의 양은 3개 입니다\n",
            "돈을 넣어주세요:203\n",
            "돈이 부족합니다. 커피는 드릴수 없습니다.\n",
            "남은 커피의 양은 3개 입니다\n",
            "돈을 넣어주세요:303\n",
            "거스름돈 3 원과 커피를 드립니다.\n",
            "돈을 넣어주세요:300\n",
            "커피를 한잔 드립니다\n",
            "돈을 넣어주세요:400\n",
            "거스름돈 100 원과 커피를 드립니다.\n",
            "커피가 다 떨어졌습니다. 판매를 중지합니다.\n"
          ]
        }
      ]
    },
    {
      "cell_type": "code",
      "metadata": {
        "colab": {
          "base_uri": "https://localhost:8080/"
        },
        "id": "Zed3DKXEQsBY",
        "outputId": "6e417333-08cb-4061-9df5-186ca3c252ac"
      },
      "source": [
        "a = 0\n",
        "while a < 10:\n",
        "  a += 1\n",
        "  if a% 2 == 0 : continue\n",
        "  print(a)"
      ],
      "execution_count": null,
      "outputs": [
        {
          "output_type": "stream",
          "name": "stdout",
          "text": [
            "1\n",
            "3\n",
            "5\n",
            "7\n",
            "9\n"
          ]
        }
      ]
    },
    {
      "cell_type": "code",
      "metadata": {
        "colab": {
          "base_uri": "https://localhost:8080/"
        },
        "id": "Avh0seaqRqrV",
        "outputId": "b7365b72-9f3d-4e92-b760-d045cd0ceccc"
      },
      "source": [
        "# For 반복문\n",
        "\n",
        "# 파이썬의 직관적인 특징을 잘 보여주는 것이 FOR문이다.\n",
        "# while문과 비슷하지만 for문은 매우 많이 사용되고 문장 구조가 한눈에 파악하기 쉽다.\n",
        "\n",
        "list = [1,2,3,4,5]\n",
        "for i in list:\n",
        "  print(i)"
      ],
      "execution_count": null,
      "outputs": [
        {
          "output_type": "stream",
          "name": "stdout",
          "text": [
            "1\n",
            "2\n",
            "3\n",
            "4\n",
            "5\n"
          ]
        }
      ]
    },
    {
      "cell_type": "code",
      "metadata": {
        "colab": {
          "base_uri": "https://localhost:8080/"
        },
        "id": "ErE1JEf1S5lz",
        "outputId": "9a8cb21e-6dbb-45f1-fa67-cb0604a9420a"
      },
      "source": [
        "a = [(1,2),(3,4),(5,6)]\n",
        "for x, y in a:\n",
        "  print(x,y)"
      ],
      "execution_count": null,
      "outputs": [
        {
          "output_type": "stream",
          "name": "stdout",
          "text": [
            "1 2\n",
            "3 4\n",
            "5 6\n"
          ]
        }
      ]
    },
    {
      "cell_type": "code",
      "metadata": {
        "colab": {
          "base_uri": "https://localhost:8080/"
        },
        "id": "Dh-oam2sTmxw",
        "outputId": "6ab9b9b5-ff2d-4217-b09e-2bd7429455e2"
      },
      "source": [
        "# 5명의 학생 점수에서 60점이 이상이면 합격 아니면 불합격을 출력하세요.\n",
        "\n",
        "score = [90,70,50,40,80]\n",
        "n = 0\n",
        "for i in score:\n",
        "  n+=1\n",
        "  if i >= 60:\n",
        "    print(\"%d번 학생은 합격입니다\"%n)\n",
        "  else:\n",
        "    print(\"%d번 학생은 불합격입니다\"%n)\n",
        "\n",
        "#출력예제 1번 학생은 합격입니다 4번 학생은 불합격입니다 등등"
      ],
      "execution_count": null,
      "outputs": [
        {
          "output_type": "stream",
          "name": "stdout",
          "text": [
            "1번 학생은 합격입니다\n",
            "2번 학생은 합격입니다\n",
            "3번 학생은 불합격입니다\n",
            "4번 학생은 불합격입니다\n",
            "5번 학생은 합격입니다\n"
          ]
        }
      ]
    },
    {
      "cell_type": "code",
      "metadata": {
        "colab": {
          "base_uri": "https://localhost:8080/"
        },
        "id": "L8t6Clq_T5Vn",
        "outputId": "68c09ee6-ead4-4553-fb53-46851c11941f"
      },
      "source": [
        "score = [90,70,50,40,80]\n",
        "n = 0\n",
        "for i in score:\n",
        "  n+=1\n",
        "  if i < 60: continue\n",
        "  print(\"%d번 학생은 합격입니다\"%n)"
      ],
      "execution_count": null,
      "outputs": [
        {
          "output_type": "stream",
          "name": "stdout",
          "text": [
            "1번 학생은 합격입니다\n",
            "2번 학생은 합격입니다\n",
            "5번 학생은 합격입니다\n"
          ]
        }
      ]
    },
    {
      "cell_type": "code",
      "metadata": {
        "colab": {
          "base_uri": "https://localhost:8080/"
        },
        "id": "hXwh4ciGYycu",
        "outputId": "bbfc71c6-f56e-4a75-a3f0-96a2687999f3"
      },
      "source": [
        "# range 함수와 for문\n",
        "# range (start, stop. step)  start를 생략하면 0부터, step을 생략하면 1씩증가\n",
        "\n",
        "add = 0\n",
        "\n",
        "for i in range(1, 11):\n",
        "  add += i\n",
        "  print(add)"
      ],
      "execution_count": null,
      "outputs": [
        {
          "output_type": "stream",
          "name": "stdout",
          "text": [
            "1\n",
            "3\n",
            "6\n",
            "10\n",
            "15\n",
            "21\n",
            "28\n",
            "36\n",
            "45\n",
            "55\n"
          ]
        }
      ]
    },
    {
      "cell_type": "code",
      "metadata": {
        "colab": {
          "base_uri": "https://localhost:8080/"
        },
        "id": "Kp_VsjTaZ2ih",
        "outputId": "53f2d932-bb83-469c-c57f-6b17b9652609"
      },
      "source": [
        "# for 문과 range를 이용해서 구구단을 표시하세요 . hint for문을 2번사용\n",
        "# 2,4,6,8,10...16,18\n",
        "# .\n",
        "# .\n",
        "# .\n",
        "# .9,18,27,36,81\n",
        "\n",
        "for i in range(2,9):\n",
        "  for j in range(1,10):\n",
        "    print(i*j,end=\" \")\n",
        "  print(\"\")"
      ],
      "execution_count": null,
      "outputs": [
        {
          "output_type": "stream",
          "name": "stdout",
          "text": [
            "2 4 6 8 10 12 14 16 18 \n",
            "3 6 9 12 15 18 21 24 27 \n",
            "4 8 12 16 20 24 28 32 36 \n",
            "5 10 15 20 25 30 35 40 45 \n",
            "6 12 18 24 30 36 42 48 54 \n",
            "7 14 21 28 35 42 49 56 63 \n",
            "8 16 24 32 40 48 56 64 72 \n"
          ]
        }
      ]
    },
    {
      "cell_type": "code",
      "metadata": {
        "colab": {
          "base_uri": "https://localhost:8080/"
        },
        "id": "3iGfpHFjb9pK",
        "outputId": "fd51ee5c-9b08-4e30-c94b-b27806b8191c"
      },
      "source": [
        "# List comprehension (리스트 내포)\n",
        "\n",
        "# without..\n",
        "a = [1,2,3,4]\n",
        "result = []\n",
        "\n",
        "for n in a:\n",
        "  result.append(n*3)\n",
        "\n",
        "print(result)"
      ],
      "execution_count": null,
      "outputs": [
        {
          "output_type": "stream",
          "name": "stdout",
          "text": [
            "[3, 6, 9, 12]\n"
          ]
        }
      ]
    },
    {
      "cell_type": "code",
      "metadata": {
        "colab": {
          "base_uri": "https://localhost:8080/"
        },
        "id": "Su9fZ5BUcw7K",
        "outputId": "7e4b2e99-cafe-4610-887c-f7e64a6157fb"
      },
      "source": [
        "# with\n",
        "\n",
        "a = [1,2,3,4]\n",
        "result = [n * 3 for n in a if n %2 == 0]\n",
        "print(result)"
      ],
      "execution_count": null,
      "outputs": [
        {
          "output_type": "stream",
          "name": "stdout",
          "text": [
            "[6, 12]\n"
          ]
        }
      ]
    },
    {
      "cell_type": "code",
      "metadata": {
        "colab": {
          "base_uri": "https://localhost:8080/"
        },
        "id": "zfGXSsd1dlMj",
        "outputId": "7e5a6b44-5acf-4243-b137-8c2beb519fab"
      },
      "source": [
        "#for문을 사용해서 1부터 100까지의 자연수중 짝수 합을 계산 하라\n",
        "sum=0\n",
        "\n",
        "for i in range(1,101):\n",
        " if i%2 == 0:\n",
        "   sum+=i\n",
        "print(sum)"
      ],
      "execution_count": null,
      "outputs": [
        {
          "output_type": "stream",
          "name": "stdout",
          "text": [
            "2550\n"
          ]
        }
      ]
    },
    {
      "cell_type": "code",
      "metadata": {
        "colab": {
          "base_uri": "https://localhost:8080/"
        },
        "id": "DeXAjHCMfSYx",
        "outputId": "05889fd4-862e-4340-e8c5-3dbc9baa5705"
      },
      "source": [
        "#while을 사용해서 아래 그림을 표시하세요\n",
        "# for n in range(1,6):\n",
        "#   print(n* '*')\n",
        "a=0\n",
        "while(a<6):\n",
        "  a+=1\n",
        "  print(\"*\" *a)"
      ],
      "execution_count": null,
      "outputs": [
        {
          "output_type": "stream",
          "name": "stdout",
          "text": [
            "*\n",
            "**\n",
            "***\n",
            "****\n",
            "*****\n",
            "******\n"
          ]
        }
      ]
    },
    {
      "cell_type": "code",
      "metadata": {
        "id": "g1v4Ez1jhws8"
      },
      "source": [
        "# for문을 사용하여\n",
        "# 총 10명의 학생들의 중간고사의 평균 점수를 구하세요  "
      ],
      "execution_count": null,
      "outputs": []
    },
    {
      "cell_type": "code",
      "metadata": {
        "colab": {
          "base_uri": "https://localhost:8080/"
        },
        "id": "dp7Yk-wwh251",
        "outputId": "25d6e56f-e344-46fe-8a1e-6bb31a34c776"
      },
      "source": [
        "score = [70,60,55,75,95,90,80,80,85,100]\n",
        "sum = 0\n",
        "for i in score:\n",
        "  sum+=i\n",
        "print(sum/len(score))"
      ],
      "execution_count": null,
      "outputs": [
        {
          "output_type": "stream",
          "name": "stdout",
          "text": [
            "79.0\n"
          ]
        }
      ]
    },
    {
      "cell_type": "code",
      "metadata": {
        "colab": {
          "base_uri": "https://localhost:8080/"
        },
        "id": "KJbJDRTXfy89",
        "outputId": "ca7dc990-1693-4550-86cb-805ce62412f4"
      },
      "source": [
        "#리스트에서 홀수만 2를 곱하여 result 리스트로 저장\n",
        "n = [1,2,3,4,5]\n",
        "result = [a*2 for a in n if a%2!=0]\n",
        "print(result)"
      ],
      "execution_count": null,
      "outputs": [
        {
          "output_type": "stream",
          "name": "stdout",
          "text": [
            "[2, 6, 10]\n"
          ]
        }
      ]
    },
    {
      "cell_type": "code",
      "metadata": {
        "id": "24ZvIbWO2JW1"
      },
      "source": [
        ""
      ],
      "execution_count": null,
      "outputs": []
    },
    {
      "cell_type": "markdown",
      "metadata": {
        "id": "9_0ch1o62Kud"
      },
      "source": [
        "**함수란**\n",
        "\n",
        "과일 -> 믹서기 -> 과일주스\n",
        "바나나 -> 믹서기 -> 바나나주스\n",
        "사과 -> 믹서기 -> 사과주스\n",
        "\n",
        "왜!!\n",
        "항상 반복되는 코드를 매번 작성하는 것보다\n",
        "그것들을 묶어서 함수로 만들면 쉽고 편하게 재활용 할 수 있다.\n",
        "\n",
        "기본형\n",
        "\n",
        "def 함수명 ( 변수 )\n",
        "  수행\n",
        "  수행\n",
        "  수행\n",
        "  return 값\n",
        "\n",
        ".def add(a,b): return a+b\n",
        "이함수의 이름은 add이고 입력으로 2개의 값을 받아서 그 두개를 더한다\n"
      ]
    },
    {
      "cell_type": "code",
      "metadata": {
        "colab": {
          "base_uri": "https://localhost:8080/"
        },
        "id": "o22K9cRf3WbJ",
        "outputId": "3cf2ce71-71f8-48f0-903c-61c6256f3a7c"
      },
      "source": [
        "# 1. 입력값도 있고 출력값도 있는 함수 ***\n",
        "def add(a,b):   #a,b    매개변수 (진짜 값을 받는 변수)\n",
        "  return a+b\n",
        "\n",
        "\n",
        "c=  add(3,4)   #3,4    인수  (진짜 들어가는 값)\n",
        "c"
      ],
      "execution_count": null,
      "outputs": [
        {
          "output_type": "execute_result",
          "data": {
            "text/plain": [
              "7"
            ]
          },
          "metadata": {},
          "execution_count": 118
        }
      ]
    },
    {
      "cell_type": "code",
      "metadata": {
        "id": "DRsWPYoC4D5_"
      },
      "source": [
        "#* 4가지 함수의 형태\n",
        "\n",
        "1. 입력값도 있고 출력값도 있는 함수 ***\n",
        "2. 입력값은 있고 출력값은 없는 함수\n",
        "3. 입력값은 없고 출력값은 있는 함수\n",
        "4. 입력값도 없고 출력값도 없는 함수\n"
      ],
      "execution_count": null,
      "outputs": []
    },
    {
      "cell_type": "code",
      "metadata": {
        "colab": {
          "base_uri": "https://localhost:8080/"
        },
        "id": "oL1J6gtr4y4m",
        "outputId": "98a4eda2-11be-4131-c973-c45aaf1a7277"
      },
      "source": [
        "# 2. 입력값은 있고 출력값은 없는 함수\n",
        "\n",
        "def say(a):\n",
        "  print(a)\n",
        "\n",
        "print(say('hi'))"
      ],
      "execution_count": null,
      "outputs": [
        {
          "output_type": "stream",
          "name": "stdout",
          "text": [
            "hi\n",
            "None\n"
          ]
        }
      ]
    },
    {
      "cell_type": "code",
      "metadata": {
        "colab": {
          "base_uri": "https://localhost:8080/",
          "height": 35
        },
        "id": "cnU77no25Ti-",
        "outputId": "d03d6fa0-a47a-43c2-8d87-89cdb1268f93"
      },
      "source": [
        "# 3. 입력값은 없고 출력값은 있는 함수\n",
        "\n",
        "def say():\n",
        "  return 'Hi'\n",
        "\n",
        "say()"
      ],
      "execution_count": null,
      "outputs": [
        {
          "output_type": "execute_result",
          "data": {
            "application/vnd.google.colaboratory.intrinsic+json": {
              "type": "string"
            },
            "text/plain": [
              "'Hi'"
            ]
          },
          "metadata": {},
          "execution_count": 142
        }
      ]
    },
    {
      "cell_type": "code",
      "metadata": {
        "colab": {
          "base_uri": "https://localhost:8080/"
        },
        "id": "Hqi-M_Cg5mM2",
        "outputId": "6a225391-c122-41ef-9818-101a9da6dd10"
      },
      "source": [
        "# 4. 입력값도 없고 출력값도 없는 함수\n",
        "def say():\n",
        "  print('Hi')\n",
        "\n",
        "say()"
      ],
      "execution_count": null,
      "outputs": [
        {
          "output_type": "stream",
          "name": "stdout",
          "text": [
            "hi\n"
          ]
        }
      ]
    },
    {
      "cell_type": "code",
      "metadata": {
        "colab": {
          "base_uri": "https://localhost:8080/"
        },
        "id": "eSLqtH9g5zCN",
        "outputId": "119d93b4-f0a2-4171-e1a7-279ec14e4855"
      },
      "source": [
        "def add(a,b):\n",
        "  return a+b\n",
        "\n",
        "r= add(b=5,a=3)\n",
        "r"
      ],
      "execution_count": null,
      "outputs": [
        {
          "output_type": "execute_result",
          "data": {
            "text/plain": [
              "8"
            ]
          },
          "metadata": {},
          "execution_count": 128
        }
      ]
    },
    {
      "cell_type": "code",
      "metadata": {
        "colab": {
          "base_uri": "https://localhost:8080/"
        },
        "id": "IRSYXztG6CyF",
        "outputId": "28e13297-8fe2-4bf9-ec83-91bb91ba63e5"
      },
      "source": [
        "# 입력이 몇개가 될지 모를때!!!!!!!!!!!!!\n",
        "\n",
        "def add_many(*args):\n",
        "  result = 0\n",
        "  for i in args:\n",
        "    result = result + i\n",
        "  return result\n",
        "\n",
        "add_many(1,2,3,4,5,6,7,8,9)\n",
        "\n"
      ],
      "execution_count": null,
      "outputs": [
        {
          "output_type": "stream",
          "name": "stdout",
          "text": [
            "<function add_many at 0x7f0155495050>\n"
          ]
        }
      ]
    },
    {
      "cell_type": "code",
      "metadata": {
        "colab": {
          "base_uri": "https://localhost:8080/"
        },
        "id": "emgUr83N8g0h",
        "outputId": "5182f800-9756-47b8-f12c-d36b4605ea4a"
      },
      "source": [
        "# 함수의 결과값은 언제나 하나이다.\n",
        "\n",
        "def add_mul(a,b):\n",
        "  return a+b, a*b\n",
        "\n",
        "result = add_mul(3,4)\n",
        "print(result)\n",
        "\n",
        "# 튜플값 하나로 반환된다."
      ],
      "execution_count": null,
      "outputs": [
        {
          "output_type": "stream",
          "name": "stdout",
          "text": [
            "(7, 12)\n"
          ]
        }
      ]
    },
    {
      "cell_type": "code",
      "metadata": {
        "colab": {
          "base_uri": "https://localhost:8080/"
        },
        "id": "JQKu7L9X9Lnl",
        "outputId": "f52e7a8b-4b84-4d36-ec01-a3df52d1d03a"
      },
      "source": [
        "result1, result2 = add_mul(3,4)\n",
        "print(result1)\n",
        "print(result2)"
      ],
      "execution_count": null,
      "outputs": [
        {
          "output_type": "execute_result",
          "data": {
            "text/plain": [
              "12"
            ]
          },
          "metadata": {},
          "execution_count": 147
        }
      ]
    },
    {
      "cell_type": "code",
      "metadata": {
        "colab": {
          "base_uri": "https://localhost:8080/"
        },
        "id": "kaA2mlXK9v4-",
        "outputId": "95ebdd77-1148-433d-b60b-148938ae621f"
      },
      "source": [
        "def add_mul(a,b):\n",
        "  return a+b\n",
        "  return a*b\n",
        "\n",
        "result = add_mul(3,4)\n",
        "print(result)"
      ],
      "execution_count": null,
      "outputs": [
        {
          "output_type": "stream",
          "name": "stdout",
          "text": [
            "7\n"
          ]
        }
      ]
    },
    {
      "cell_type": "code",
      "metadata": {
        "colab": {
          "base_uri": "https://localhost:8080/"
        },
        "id": "R8jMOBBK-GKw",
        "outputId": "6c07b950-1f36-4084-cc34-ba58d1a4df0d"
      },
      "source": [
        "def say (name, age, man=True):\n",
        "  print(\"나의 이름은 %s 입니다\" %name, end=\" \")\n",
        "  print(\"나이는 %d 살 입니다\" %age, end=\" \")\n",
        "  if man:\n",
        "    print(\"남자 입니다.\")\n",
        "  else:\n",
        "    print(\"여자 입니다.\")\n",
        "say(\"김정철\", 34)\n",
        "#say(\"성춘향\",33,False)\n",
        "\n",
        "#초기값 설정은 항상 끝에 한다.\n",
        "print(say(\"임\",33,False))"
      ],
      "execution_count": null,
      "outputs": [
        {
          "output_type": "stream",
          "name": "stdout",
          "text": [
            "나의 이름은 김정철 입니다 나이는 34 살 입니다 남자 입니다.\n",
            "나의 이름은 임 입니다 나이는 33 살 입니다 여자 입니다.\n",
            "None\n"
          ]
        }
      ]
    },
    {
      "cell_type": "code",
      "metadata": {
        "colab": {
          "base_uri": "https://localhost:8080/"
        },
        "id": "U5iTJVOn_kZd",
        "outputId": "04d54161-fbcb-498f-c95d-fa4076a60fdb"
      },
      "source": [
        "#g함수에서 선언하 변수의 효력 범위..\n",
        "\n",
        "a=1\n",
        "def vartest(a):\n",
        "  a = a + 1 \n",
        "  print(a)\n",
        "\n",
        "vartest(a)\n",
        "print(a)\n",
        "\n",
        "\n",
        "#당연히 변수 값에 1을 더했으니 2가 출력될 것으로 보였지만 결과는 1이 나온다.\n",
        "#그 이유는 함수 안에서 새로 만든 매개 변수는 함수 안에서만 사용하는 함수만의 변수 이다.\n",
        "#함수는 지역변수 (local) , 전역변수 global"
      ],
      "execution_count": null,
      "outputs": [
        {
          "output_type": "stream",
          "name": "stdout",
          "text": [
            "2\n",
            "1\n"
          ]
        }
      ]
    },
    {
      "cell_type": "code",
      "metadata": {
        "colab": {
          "base_uri": "https://localhost:8080/",
          "height": 232
        },
        "id": "_TcBlDh8HAlv",
        "outputId": "f8ac19b7-99c2-4e6f-c535-fce3b074300f"
      },
      "source": [
        "def vartest(z):\n",
        "  z = z+1\n",
        "\n",
        "vartest(3)\n",
        "print(z)\n",
        "\n",
        "#함수 안에서 선언한 매개변수는 함수 안에서만 사용된다! 아주아주 중요!!!!!!!!!\n"
      ],
      "execution_count": null,
      "outputs": [
        {
          "output_type": "error",
          "ename": "NameError",
          "evalue": "ignored",
          "traceback": [
            "\u001b[0;31m---------------------------------------------------------------------------\u001b[0m",
            "\u001b[0;31mNameError\u001b[0m                                 Traceback (most recent call last)",
            "\u001b[0;32m<ipython-input-185-e1b1c764a203>\u001b[0m in \u001b[0;36m<module>\u001b[0;34m()\u001b[0m\n\u001b[1;32m      3\u001b[0m \u001b[0;34m\u001b[0m\u001b[0m\n\u001b[1;32m      4\u001b[0m \u001b[0mvartest\u001b[0m\u001b[0;34m(\u001b[0m\u001b[0;36m3\u001b[0m\u001b[0;34m)\u001b[0m\u001b[0;34m\u001b[0m\u001b[0;34m\u001b[0m\u001b[0m\n\u001b[0;32m----> 5\u001b[0;31m \u001b[0mprint\u001b[0m\u001b[0;34m(\u001b[0m\u001b[0mz\u001b[0m\u001b[0;34m)\u001b[0m\u001b[0;34m\u001b[0m\u001b[0;34m\u001b[0m\u001b[0m\n\u001b[0m\u001b[1;32m      6\u001b[0m \u001b[0;34m\u001b[0m\u001b[0m\n\u001b[1;32m      7\u001b[0m \u001b[0;31m#함수 안에서 선언한 매개변수는 함수 안에서만 사용된다! 아주아주 중요!!!!!!!!!\u001b[0m\u001b[0;34m\u001b[0m\u001b[0;34m\u001b[0m\u001b[0;34m\u001b[0m\u001b[0m\n",
            "\u001b[0;31mNameError\u001b[0m: name 'z' is not defined"
          ]
        }
      ]
    },
    {
      "cell_type": "code",
      "metadata": {
        "colab": {
          "base_uri": "https://localhost:8080/"
        },
        "id": "izw6HfliH2aq",
        "outputId": "464fb806-2c51-4cc5-8536-c1821dab196a"
      },
      "source": [
        "z=1\n",
        "def vartest(z):\n",
        "  z= z+1\n",
        "  return z\n",
        "\n",
        "g = vartest(z)\n",
        "print(g)"
      ],
      "execution_count": null,
      "outputs": [
        {
          "output_type": "stream",
          "name": "stdout",
          "text": [
            "2\n"
          ]
        }
      ]
    },
    {
      "cell_type": "code",
      "metadata": {
        "colab": {
          "base_uri": "https://localhost:8080/"
        },
        "id": "OwDK6GsHGYzF",
        "outputId": "2a14c7d3-ba7b-48b2-8056-519be09691f8"
      },
      "source": [
        "a = 1\n",
        "def vartest():\n",
        "  global a\n",
        "  a = a+1\n",
        "\n",
        "vartest()\n",
        "print(a)\n",
        "# 전역 변수 선언은 함수 밖에서도 직접 사용하겠다는 의미\n",
        "# 전역 변수는 사용하지 않는 것이 좋다.\n",
        "\n",
        "#람다....lamda....\n",
        "#def와 동일한 역할을 한다.\n",
        "#보통 함수를 한줄로 간단하게 만들때 사용한다.\n"
      ],
      "execution_count": null,
      "outputs": [
        {
          "output_type": "stream",
          "name": "stdout",
          "text": [
            "2\n"
          ]
        }
      ]
    },
    {
      "cell_type": "code",
      "metadata": {
        "colab": {
          "base_uri": "https://localhost:8080/"
        },
        "id": "PBcKUsIUJWV4",
        "outputId": "3002fcf5-d699-4295-d4f2-cd233a2b20d6"
      },
      "source": [
        "def add(a,b):\n",
        "  return a+b\n",
        "\n",
        "r = add(3,4)\n",
        "print(r)\n",
        "print(\"----하단은 람다로 구현----\")\n",
        "#---------------- \n",
        "add = lambda a, b: a+b    #lambda 변수 1, 변수2 ...: 변수를 이용한 식\n",
        "r = add(3,4)\n",
        "print(r)"
      ],
      "execution_count": null,
      "outputs": [
        {
          "output_type": "stream",
          "name": "stdout",
          "text": [
            "7\n",
            "----하단 람다----\n",
            "7\n"
          ]
        }
      ]
    },
    {
      "cell_type": "code",
      "metadata": {
        "colab": {
          "base_uri": "https://localhost:8080/"
        },
        "id": "AatBClZWKfiM",
        "outputId": "4b6a6aaa-73d3-41f3-f533-6ee498ca3ee3"
      },
      "source": [
        "#사용자 입출력 (input / print)\n",
        "\n",
        "a = input()\n",
        "type(a)\n",
        "\n",
        "#input으로 입력 받는 모든 값은 일단 str\n",
        "#계산을 위하여 형변환을 해줘야한다"
      ],
      "execution_count": null,
      "outputs": [
        {
          "name": "stdout",
          "output_type": "stream",
          "text": [
            "3\n"
          ]
        },
        {
          "output_type": "execute_result",
          "data": {
            "text/plain": [
              "str"
            ]
          },
          "metadata": {},
          "execution_count": 196
        }
      ]
    },
    {
      "cell_type": "code",
      "metadata": {
        "colab": {
          "base_uri": "https://localhost:8080/"
        },
        "id": "yoLCvQ43K6ah",
        "outputId": "3008d8ab-e6b2-436c-809b-fc87dd637e6e"
      },
      "source": [
        "a = int(input())\n",
        "type(a)"
      ],
      "execution_count": null,
      "outputs": [
        {
          "name": "stdout",
          "output_type": "stream",
          "text": [
            "123\n"
          ]
        },
        {
          "output_type": "execute_result",
          "data": {
            "text/plain": [
              "int"
            ]
          },
          "metadata": {},
          "execution_count": 197
        }
      ]
    },
    {
      "cell_type": "code",
      "metadata": {
        "colab": {
          "base_uri": "https://localhost:8080/"
        },
        "id": "zAXs7mNXKsiv",
        "outputId": "a4e4aa5e-dbd1-469f-d89c-8d93a90c9c28"
      },
      "source": [
        "#숫자를 입력받아서 그 숫자가 홀수 있지 짝수 인지 판별해주는  함수를 만들어 보자\n",
        "\n",
        "\n",
        "def hol(a):\n",
        "  if (a%2 == 1):\n",
        "    print(\"홀수\")\n",
        "  else:\n",
        "    print(\"짝수\")\n",
        "\n",
        "hol(int(input()))"
      ],
      "execution_count": null,
      "outputs": [
        {
          "output_type": "stream",
          "name": "stdout",
          "text": [
            "3\n",
            "홀수\n"
          ]
        }
      ]
    },
    {
      "cell_type": "code",
      "metadata": {
        "colab": {
          "base_uri": "https://localhost:8080/"
        },
        "id": "gn8QuA0UM-LY",
        "outputId": "c8cd5b08-3ef9-4790-c440-ee89b17da626"
      },
      "source": [
        "#입력으로 들어오는 모든 수의 평균을 계산하는 함수(입력개수는 미지정)\n",
        "\n",
        "def many(*args):\n",
        "  sum = 0\n",
        "  for i in args:\n",
        "    sum = sum + i\n",
        "  return sum/len(args)\n",
        "\n",
        "print(many(1,2,3))\n",
        "print(many(1,2,3,4,5))\n"
      ],
      "execution_count": null,
      "outputs": [
        {
          "output_type": "stream",
          "name": "stdout",
          "text": [
            "2.0\n",
            "3.0\n"
          ]
        }
      ]
    },
    {
      "cell_type": "code",
      "metadata": {
        "colab": {
          "base_uri": "https://localhost:8080/"
        },
        "id": "5J3Ao2vARLF5",
        "outputId": "19117dbe-2e55-402b-8d75-cf1d869a8842"
      },
      "source": [
        "def add_mul(a, *args):\n",
        "  if a == \"add\":\n",
        "    result = 0\n",
        "    for i in args:\n",
        "      result += i\n",
        "  elif a == \"mul\":\n",
        "    result = 1\n",
        "    for i in args:\n",
        "      result *=i\n",
        "  return result\n",
        "\n",
        "\n",
        "print(add_mul('add',int(input()),int(input()),int(input()),int(input())))\n",
        "print(add_mul('mul',1,2,3,4,5))"
      ],
      "execution_count": null,
      "outputs": [
        {
          "output_type": "stream",
          "name": "stdout",
          "text": [
            "1\n",
            "2\n",
            "3\n",
            "4\n",
            "10\n",
            "120\n"
          ]
        }
      ]
    },
    {
      "cell_type": "code",
      "metadata": {
        "id": "r4qhWwOFTOU_"
      },
      "source": [
        "# 파일 읽고 쓰기\n",
        "\n",
        "# 파일 생성\n",
        "\n",
        "f = open (\"파일이름.txt\", 'w')\n",
        "f.close()\n",
        "\n",
        "# w쓰기  r읽기  a추가"
      ],
      "execution_count": null,
      "outputs": []
    },
    {
      "cell_type": "code",
      "metadata": {
        "id": "Rb4Cq8ZsTkjC"
      },
      "source": [
        "f = open(\"새파일.txt\", 'w')\n",
        "for i in range(1,11):\n",
        "  data = \"%d번째 줄입니다. \\n\" % i\n",
        "  f.write(data)\n",
        "f.close()"
      ],
      "execution_count": null,
      "outputs": []
    },
    {
      "cell_type": "code",
      "metadata": {
        "id": "CWDH1EChdrIO"
      },
      "source": [
        "f = open(\"새파일.txt\", 'r')\n",
        "\n",
        "while True:\n",
        "  line = f.readline()\n",
        "  print(line)\n",
        "  if not line : break\n",
        "\n",
        "f.close()"
      ],
      "execution_count": null,
      "outputs": []
    },
    {
      "cell_type": "code",
      "metadata": {
        "id": "qxKSxy8lej0B"
      },
      "source": [
        "# readlines()\n",
        "\n",
        "f = open(\"새파일.txt\", 'r')\n",
        "lines = f.readlines()\n",
        "for line in lines:\n",
        "  print(line)\n",
        "\n",
        "f.close()\n",
        "\n",
        "#readlines함수는 파일의 모든 줄을 다 읽어서 각각의 줄을 요소로 하는 리스트로 돌려준다.\n",
        "\n"
      ],
      "execution_count": null,
      "outputs": []
    },
    {
      "cell_type": "code",
      "metadata": {
        "id": "Eiq975Yrfgo4"
      },
      "source": [
        "#readlines()\n",
        "f = open(\"새파일.txt\", 'r')\n",
        "lines = f.readlines()\n",
        "for line in lines:\n",
        "  line = line.strip()\n",
        "  print(line)\n",
        "\n",
        "f.close()"
      ],
      "execution_count": null,
      "outputs": []
    },
    {
      "cell_type": "code",
      "metadata": {
        "colab": {
          "base_uri": "https://localhost:8080/"
        },
        "id": "JaPK81HpfrqE",
        "outputId": "5ec6608d-7307-490d-cd03-7d0ef6f3a0d5"
      },
      "source": [
        "#read()\n",
        "\n",
        "f = open(\"새파일.txt\", 'r')\n",
        "lines = f.read()\n",
        "print(lines)\n",
        "f.close()"
      ],
      "execution_count": null,
      "outputs": [
        {
          "output_type": "stream",
          "name": "stdout",
          "text": [
            "1번째 줄입니다. \n",
            "2번째 줄입니다. \n",
            "3번째 줄입니다. \n",
            "4번째 줄입니다. \n",
            "5번째 줄입니다. \n",
            "6번째 줄입니다. \n",
            "7번째 줄입니다. \n",
            "8번째 줄입니다. \n",
            "9번째 줄입니다. \n",
            "10번째 줄입니다. \n",
            "\n"
          ]
        }
      ]
    },
    {
      "cell_type": "code",
      "metadata": {
        "id": "i3ID5CdzfzOo"
      },
      "source": [
        "f=open(\"새파일.txt\",'a')\n",
        "for i in range(11,20):\n",
        "  data = \"%d번째 줄입니다. \\n\"%i\n",
        "  f.write(data)\n",
        "f.close()"
      ],
      "execution_count": null,
      "outputs": []
    },
    {
      "cell_type": "code",
      "metadata": {
        "colab": {
          "base_uri": "https://localhost:8080/"
        },
        "id": "TnfvUcIQgR8_",
        "outputId": "e2ae6152-13ba-4d87-d21f-aec5812e3a6d"
      },
      "source": [
        "#read()\n",
        "\n",
        "f = open(\"새파일.txt\", 'r')\n",
        "lines = f.read()\n",
        "print(lines)\n",
        "f.close()"
      ],
      "execution_count": null,
      "outputs": [
        {
          "output_type": "stream",
          "name": "stdout",
          "text": [
            "1번째 줄입니다. \n",
            "2번째 줄입니다. \n",
            "3번째 줄입니다. \n",
            "4번째 줄입니다. \n",
            "5번째 줄입니다. \n",
            "6번째 줄입니다. \n",
            "7번째 줄입니다. \n",
            "8번째 줄입니다. \n",
            "9번째 줄입니다. \n",
            "10번째 줄입니다. \n",
            "11번째 줄입니다. \n",
            "12번째 줄입니다. \n",
            "13번째 줄입니다. \n",
            "14번째 줄입니다. \n",
            "15번째 줄입니다. \n",
            "16번째 줄입니다. \n",
            "17번째 줄입니다. \n",
            "18번째 줄입니다. \n",
            "19번째 줄입니다. \n",
            "\n"
          ]
        }
      ]
    },
    {
      "cell_type": "code",
      "metadata": {
        "id": "lO_zMJpZgV1S"
      },
      "source": [
        "# with\n",
        "# 파일을 사용 후에는 항상 닫아줘야 한다.\n",
        "# 자동으로 닫으면 편하다\n",
        "\n",
        "with open(\"새파일.txt\",\"w\") as f:\n",
        "  f.write(\"No pain ni gain\")"
      ],
      "execution_count": null,
      "outputs": []
    },
    {
      "cell_type": "code",
      "metadata": {
        "id": "Wi7EthFkhV_8"
      },
      "source": [
        "#두 수를 입력받아 합계를 계산\n",
        "\n",
        "input1 = \n",
        "intput2 =\n",
        "\n",
        "첫번째 숫자 :\n",
        "두번째 숫자 :\n",
        "두수의 합은??입니다."
      ],
      "execution_count": null,
      "outputs": []
    },
    {
      "cell_type": "code",
      "metadata": {
        "colab": {
          "base_uri": "https://localhost:8080/"
        },
        "id": "gCf5tJl3hp_w",
        "outputId": "75911bea-3455-4186-afca-f2cbd257b42b"
      },
      "source": [
        "print(\"첫번째 숫자 :\",end=\"\")\n",
        "x = int(input())\n",
        "print(\"두번째 숫자 :\",end=\"\")\n",
        "y = int(input())\n",
        "\n",
        "print(\"두수의 합은\",x+y,\"입니다\")"
      ],
      "execution_count": null,
      "outputs": [
        {
          "output_type": "stream",
          "name": "stdout",
          "text": [
            "첫번째 숫자 :5\n",
            "두번째 숫자 :10\n",
            "두수의 합은 15 입니다\n"
          ]
        }
      ]
    },
    {
      "cell_type": "code",
      "metadata": {
        "id": "jAKiFaEbiG3s"
      },
      "source": [
        "# class ....\n",
        "# C 언어에는 클래스가 없다. 객체 지향이 없다 \n",
        "# 클래스는 반드시 필요한 것은 아니지만\n",
        "# 사용한다면 얻을수 있는 이익이 상당하다"
      ],
      "execution_count": null,
      "outputs": []
    },
    {
      "cell_type": "code",
      "metadata": {
        "colab": {
          "base_uri": "https://localhost:8080/"
        },
        "id": "pQctbyrZk0Ig",
        "outputId": "cb963c2e-fbb6-4a6b-a348-3e4c329fbd8b"
      },
      "source": [
        "# 계산기\n",
        "\n",
        "result1 = 0\n",
        "result2 = 0\n",
        "\n",
        "def add1(num):\n",
        "  global result1   #이전에 계산 값을 유지하기 위해 전역 변수 사용\n",
        "  result1 += num\n",
        "  return result1\n",
        "\n",
        "def add2(num):\n",
        "  global result2   #이전에 계산 값을 유지하기 위해 전역 변수 사용\n",
        "  result2 += num\n",
        "  return result2\n",
        "\n",
        "print(add1(3))\n",
        "print(add1(4))\n",
        "print(add1(5))\n",
        "print()\n",
        "print(add2(1))\n",
        "print(add2(2))\n",
        "print(add2(3))\n"
      ],
      "execution_count": null,
      "outputs": [
        {
          "output_type": "stream",
          "name": "stdout",
          "text": [
            "3\n",
            "7\n",
            "12\n",
            "\n",
            "1\n",
            "3\n",
            "6\n"
          ]
        }
      ]
    },
    {
      "cell_type": "code",
      "metadata": {
        "colab": {
          "base_uri": "https://localhost:8080/"
        },
        "id": "IyNqADpvmYhX",
        "outputId": "7abf6c50-ec99-4072-d5cf-c37e9aed5ccd"
      },
      "source": [
        "class Calculator:\n",
        "  def __init__(self): # 생성자\n",
        "    self.result = 0\n",
        "\n",
        "  def add(self, num):\n",
        "    self.result += num\n",
        "    return self.result\n",
        "\n",
        "cal1 = Calculator()\n",
        "cal2 = Calculator()\n",
        "\n",
        "print(cal1.add(3))\n",
        "print(cal1.add(4))\n",
        "print(cal1.add(5))\n",
        "print()\n",
        "print()\n",
        "print(cal2.add(5))\n",
        "print(cal2.add(7))\n",
        "print(cal2.add(10))\n",
        "\n",
        "\n"
      ],
      "execution_count": null,
      "outputs": [
        {
          "output_type": "stream",
          "name": "stdout",
          "text": [
            "3\n",
            "7\n",
            "12\n",
            "\n",
            "\n",
            "5\n",
            "12\n",
            "22\n"
          ]
        }
      ]
    },
    {
      "cell_type": "code",
      "metadata": {
        "colab": {
          "base_uri": "https://localhost:8080/"
        },
        "id": "wDw9olMiunb_",
        "outputId": "c3396c53-1d58-4b4e-ef9d-9244b3631eec"
      },
      "source": [
        "# 복습라인\n",
        "# 주어진 수가 홀수 인지 짝수인지 판별하는 함수\n",
        "\n",
        "def text(x):\n",
        "  if x%2 == 0:\n",
        "    return print('입력하신 숫자값은 짝수입니다')\n",
        "  else:\n",
        "    return print('입력하신 숫자값은 홀수입니다')\n",
        "  return x\n",
        "print(text(int(input())))"
      ],
      "execution_count": null,
      "outputs": [
        {
          "output_type": "stream",
          "name": "stdout",
          "text": [
            "23\n",
            "입력하신 숫자값은 홀수입니다\n",
            "None\n"
          ]
        }
      ]
    },
    {
      "cell_type": "code",
      "metadata": {
        "colab": {
          "base_uri": "https://localhost:8080/"
        },
        "id": "y7e6zzeFxLk6",
        "outputId": "424d25da-2027-4dc7-9edc-887bfba47e9e"
      },
      "source": [
        "# 입력값 두개를 받아 합계를 반환해주자\n",
        "num1 = int(input(\"첫번째 숫자를 입력하세요 : \"))\n",
        "num2 = int(input(\"두번째 숫자를 입력하세요 : \"))\n",
        "print(\"입력값의 합은 \", num1+num2, \"입니다\")"
      ],
      "execution_count": null,
      "outputs": [
        {
          "output_type": "stream",
          "name": "stdout",
          "text": [
            "첫번째 숫자를 입력하세요 : 123\n",
            "두번째 숫자를 입력하세요 : 123\n",
            "입력값의 합은  246 입니다\n"
          ]
        }
      ]
    },
    {
      "cell_type": "code",
      "metadata": {
        "colab": {
          "base_uri": "https://localhost:8080/"
        },
        "id": "n_hyPyooyKZS",
        "outputId": "ac1a440f-9654-4987-b09a-82e5bbf6ec8e"
      },
      "source": [
        "f1 = open(\"test.txt\", 'w')\n",
        "f1.write(\"Life is too short\")\n",
        "\n",
        "f1 = open(\"test.txt\", 'r')\n",
        "print(f1.read())"
      ],
      "execution_count": null,
      "outputs": [
        {
          "output_type": "stream",
          "name": "stdout",
          "text": [
            "Life is too short\n"
          ]
        }
      ]
    },
    {
      "cell_type": "code",
      "metadata": {
        "colab": {
          "base_uri": "https://localhost:8080/"
        },
        "id": "YYfbjdoSygRs",
        "outputId": "20188691-53cf-49bc-8289-b6e3dfb95d91"
      },
      "source": [
        "with open(\"test.txt\", 'a') as f:\n",
        "  user_input = input(\"저장할 내용을 입력하세요:\")\n",
        "  f.write(user_input)\n",
        "  f.write('\\n')"
      ],
      "execution_count": null,
      "outputs": [
        {
          "name": "stdout",
          "output_type": "stream",
          "text": [
            "저장할 내용을 입력하세요:123123\n"
          ]
        }
      ]
    }
  ]
}